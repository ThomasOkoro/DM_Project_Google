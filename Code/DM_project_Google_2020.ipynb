{
  "nbformat": 4,
  "nbformat_minor": 0,
  "metadata": {
    "colab": {
      "name": "DM_project_Google_2020.ipynb",
      "provenance": [],
      "collapsed_sections": [],
      "toc_visible": true
    },
    "kernelspec": {
      "display_name": "Python 3",
      "name": "python3"
    }
  },
  "cells": [
    {
      "cell_type": "markdown",
      "metadata": {
        "id": "6btBv7cTS-Nc"
      },
      "source": [
        "# Project Google Team\n",
        "\n",
        "\n",
        "*   Thomas Okoro\n",
        "*   Etra\n",
        "*   Carolina\n",
        "\n",
        "\n"
      ]
    },
    {
      "cell_type": "markdown",
      "metadata": {
        "id": "yFKaHYZMpVZT"
      },
      "source": [
        "# Project introduction\n",
        "\n",
        "## **Real or Not? NLP with Disaster Tweets**\n",
        "\n",
        "People often use Tweeter when something happen. They use their smartphone \n",
        "to announce an emergency they’re observing in real-time. In this project, we are interested in the sentiment analysis in order to predict if a given tweet is a real disaster or not.\n",
        "\n",
        "Things are not always clear whether a person’s words are actually announcing a disaster or not. Take this example available on :https://www.kaggle.com/c/nlp-getting-started\n",
        "\n",
        "<div>\n",
        "<img src=\"https://storage.googleapis.com/kaggle-media/competitions/tweet_screenshot.png\" width=\"500\"/>\n",
        "</div>\n",
        "\n",
        "Here the author use the word Ablaze, for human it is clear that is it a methaphor but it's less clear for machine. It is difficult for human (almost impossible) to read thousand of tweet and classify them into category but with machine learning and the use of \"natural language processing\" libraries, machine can learn about the meaning of a given Tweet.\n",
        "This is the purpose of this challenge.\n"
      ]
    },
    {
      "cell_type": "markdown",
      "metadata": {
        "id": "xnXe0x9N7RSJ"
      },
      "source": [
        "# Data"
      ]
    },
    {
      "cell_type": "markdown",
      "metadata": {
        "id": "nDXbJO8g7Rg7"
      },
      "source": [
        "In this project, 2 datasets are provided: \n",
        "\n",
        "One of them contain Tweets and are labeled  \n",
        "\n",
        " 1. The first one (training set) contain labeled Tweets (we know if this Tweet refer to a real disaster or not)\n",
        " 2. The second one (test set) contain unlabeled Tweets\n",
        "\n"
      ]
    },
    {
      "cell_type": "markdown",
      "metadata": {
        "id": "wbIHh7bd9XU8"
      },
      "source": [
        "\n",
        "# Dataset importation and vizualisation"
      ]
    },
    {
      "cell_type": "code",
      "metadata": {
        "id": "PR8sr2Hi-N_v"
      },
      "source": [
        "# Import dataset from github repository\n",
        "url_train = 'https://raw.githubusercontent.com/ThomasOkoro/DM_Project_Google/main/Data/training_data.csv' #git url of the training set\n",
        "url_test = 'https://raw.githubusercontent.com/ThomasOkoro/DM_Project_Google/main/Data/test_data.csv' #git url of the training set"
      ],
      "execution_count": 1,
      "outputs": []
    },
    {
      "cell_type": "code",
      "metadata": {
        "id": "vG6yTNip_Zxi"
      },
      "source": [
        "#importing pandas \n",
        "import pandas as pd "
      ],
      "execution_count": 2,
      "outputs": []
    },
    {
      "cell_type": "code",
      "metadata": {
        "id": "Htp1vViHpkM5",
        "colab": {
          "base_uri": "https://localhost:8080/",
          "height": 195
        },
        "outputId": "ca8791a9-8e73-41db-9547-0e075a7928b4"
      },
      "source": [
        "\n",
        "df_train=pd.read_csv(url_train)\n",
        "df_test = pd.read_csv(url_test)\n",
        "\n",
        "df_train.head()\n",
        "\n"
      ],
      "execution_count": 3,
      "outputs": [
        {
          "output_type": "execute_result",
          "data": {
            "text/html": [
              "<div>\n",
              "<style scoped>\n",
              "    .dataframe tbody tr th:only-of-type {\n",
              "        vertical-align: middle;\n",
              "    }\n",
              "\n",
              "    .dataframe tbody tr th {\n",
              "        vertical-align: top;\n",
              "    }\n",
              "\n",
              "    .dataframe thead th {\n",
              "        text-align: right;\n",
              "    }\n",
              "</style>\n",
              "<table border=\"1\" class=\"dataframe\">\n",
              "  <thead>\n",
              "    <tr style=\"text-align: right;\">\n",
              "      <th></th>\n",
              "      <th>id</th>\n",
              "      <th>keyword</th>\n",
              "      <th>location</th>\n",
              "      <th>text</th>\n",
              "      <th>target</th>\n",
              "    </tr>\n",
              "  </thead>\n",
              "  <tbody>\n",
              "    <tr>\n",
              "      <th>0</th>\n",
              "      <td>3738</td>\n",
              "      <td>destroyed</td>\n",
              "      <td>USA</td>\n",
              "      <td>Black Eye 9: A space battle occurred at Star O...</td>\n",
              "      <td>0</td>\n",
              "    </tr>\n",
              "    <tr>\n",
              "      <th>1</th>\n",
              "      <td>853</td>\n",
              "      <td>bioterror</td>\n",
              "      <td>NaN</td>\n",
              "      <td>#world FedEx no longer to transport bioterror ...</td>\n",
              "      <td>0</td>\n",
              "    </tr>\n",
              "    <tr>\n",
              "      <th>2</th>\n",
              "      <td>10540</td>\n",
              "      <td>windstorm</td>\n",
              "      <td>Palm Beach County, FL</td>\n",
              "      <td>Reality Training: Train falls off elevated tra...</td>\n",
              "      <td>1</td>\n",
              "    </tr>\n",
              "    <tr>\n",
              "      <th>3</th>\n",
              "      <td>5988</td>\n",
              "      <td>hazardous</td>\n",
              "      <td>USA</td>\n",
              "      <td>#Taiwan Grace: expect that large rocks trees m...</td>\n",
              "      <td>1</td>\n",
              "    </tr>\n",
              "    <tr>\n",
              "      <th>4</th>\n",
              "      <td>6328</td>\n",
              "      <td>hostage</td>\n",
              "      <td>Australia</td>\n",
              "      <td>New ISIS Video: ISIS Threatens to Behead Croat...</td>\n",
              "      <td>1</td>\n",
              "    </tr>\n",
              "  </tbody>\n",
              "</table>\n",
              "</div>"
            ],
            "text/plain": [
              "      id    keyword  ...                                               text target\n",
              "0   3738  destroyed  ...  Black Eye 9: A space battle occurred at Star O...      0\n",
              "1    853  bioterror  ...  #world FedEx no longer to transport bioterror ...      0\n",
              "2  10540  windstorm  ...  Reality Training: Train falls off elevated tra...      1\n",
              "3   5988  hazardous  ...  #Taiwan Grace: expect that large rocks trees m...      1\n",
              "4   6328    hostage  ...  New ISIS Video: ISIS Threatens to Behead Croat...      1\n",
              "\n",
              "[5 rows x 5 columns]"
            ]
          },
          "metadata": {
            "tags": []
          },
          "execution_count": 3
        }
      ]
    },
    {
      "cell_type": "code",
      "metadata": {
        "colab": {
          "base_uri": "https://localhost:8080/"
        },
        "id": "YN4x7C4uFgVL",
        "outputId": "92b41b25-fee2-4845-b460-4764823170c5"
      },
      "source": [
        "#import repository\n",
        "!git clone 'https://github.com/ThomasOkoro/DM_Project_Google.git' #copying from github into the destination directory\n",
        "!ls"
      ],
      "execution_count": 4,
      "outputs": [
        {
          "output_type": "stream",
          "text": [
            "Cloning into 'DM_Project_Google'...\n",
            "remote: Enumerating objects: 125, done.\u001b[K\n",
            "remote: Counting objects: 100% (125/125), done.\u001b[K\n",
            "remote: Compressing objects: 100% (121/121), done.\u001b[K\n",
            "remote: Total 125 (delta 66), reused 3 (delta 0), pack-reused 0\u001b[K\n",
            "Receiving objects: 100% (125/125), 494.85 KiB | 1.01 MiB/s, done.\n",
            "Resolving deltas: 100% (66/66), done.\n",
            "DM_Project_Google  sample_data\n"
          ],
          "name": "stdout"
        }
      ]
    },
    {
      "cell_type": "markdown",
      "metadata": {
        "id": "5T92ylDN_3rc"
      },
      "source": [
        "We can see that this training set is labeled and we know if a given Tweets refer to a real disaster or not by looking at the value of the target column.\n",
        "\n",
        "\n",
        "\n",
        "*   target = 1 --> disaster\n",
        "*   target = 0 --> not a disaster\n",
        "\n",
        "The keyword refer to the word thats seem the most important in the Tweet it like the word \"ABLAZE\" in the introduction.\n",
        "\n"
      ]
    },
    {
      "cell_type": "code",
      "metadata": {
        "colab": {
          "base_uri": "https://localhost:8080/",
          "height": 195
        },
        "id": "JsgV495j_z0D",
        "outputId": "c0fcdfa1-2001-4ea1-c993-c515a6c4d586"
      },
      "source": [
        "df_train.head()"
      ],
      "execution_count": 5,
      "outputs": [
        {
          "output_type": "execute_result",
          "data": {
            "text/html": [
              "<div>\n",
              "<style scoped>\n",
              "    .dataframe tbody tr th:only-of-type {\n",
              "        vertical-align: middle;\n",
              "    }\n",
              "\n",
              "    .dataframe tbody tr th {\n",
              "        vertical-align: top;\n",
              "    }\n",
              "\n",
              "    .dataframe thead th {\n",
              "        text-align: right;\n",
              "    }\n",
              "</style>\n",
              "<table border=\"1\" class=\"dataframe\">\n",
              "  <thead>\n",
              "    <tr style=\"text-align: right;\">\n",
              "      <th></th>\n",
              "      <th>id</th>\n",
              "      <th>keyword</th>\n",
              "      <th>location</th>\n",
              "      <th>text</th>\n",
              "      <th>target</th>\n",
              "    </tr>\n",
              "  </thead>\n",
              "  <tbody>\n",
              "    <tr>\n",
              "      <th>0</th>\n",
              "      <td>3738</td>\n",
              "      <td>destroyed</td>\n",
              "      <td>USA</td>\n",
              "      <td>Black Eye 9: A space battle occurred at Star O...</td>\n",
              "      <td>0</td>\n",
              "    </tr>\n",
              "    <tr>\n",
              "      <th>1</th>\n",
              "      <td>853</td>\n",
              "      <td>bioterror</td>\n",
              "      <td>NaN</td>\n",
              "      <td>#world FedEx no longer to transport bioterror ...</td>\n",
              "      <td>0</td>\n",
              "    </tr>\n",
              "    <tr>\n",
              "      <th>2</th>\n",
              "      <td>10540</td>\n",
              "      <td>windstorm</td>\n",
              "      <td>Palm Beach County, FL</td>\n",
              "      <td>Reality Training: Train falls off elevated tra...</td>\n",
              "      <td>1</td>\n",
              "    </tr>\n",
              "    <tr>\n",
              "      <th>3</th>\n",
              "      <td>5988</td>\n",
              "      <td>hazardous</td>\n",
              "      <td>USA</td>\n",
              "      <td>#Taiwan Grace: expect that large rocks trees m...</td>\n",
              "      <td>1</td>\n",
              "    </tr>\n",
              "    <tr>\n",
              "      <th>4</th>\n",
              "      <td>6328</td>\n",
              "      <td>hostage</td>\n",
              "      <td>Australia</td>\n",
              "      <td>New ISIS Video: ISIS Threatens to Behead Croat...</td>\n",
              "      <td>1</td>\n",
              "    </tr>\n",
              "  </tbody>\n",
              "</table>\n",
              "</div>"
            ],
            "text/plain": [
              "      id    keyword  ...                                               text target\n",
              "0   3738  destroyed  ...  Black Eye 9: A space battle occurred at Star O...      0\n",
              "1    853  bioterror  ...  #world FedEx no longer to transport bioterror ...      0\n",
              "2  10540  windstorm  ...  Reality Training: Train falls off elevated tra...      1\n",
              "3   5988  hazardous  ...  #Taiwan Grace: expect that large rocks trees m...      1\n",
              "4   6328    hostage  ...  New ISIS Video: ISIS Threatens to Behead Croat...      1\n",
              "\n",
              "[5 rows x 5 columns]"
            ]
          },
          "metadata": {
            "tags": []
          },
          "execution_count": 5
        }
      ]
    },
    {
      "cell_type": "code",
      "metadata": {
        "colab": {
          "base_uri": "https://localhost:8080/",
          "height": 195
        },
        "id": "hn8FR78_B9FF",
        "outputId": "b429b50c-42cb-44d0-801f-f2bb7a407a58"
      },
      "source": [
        "df_test.head()\n",
        "\n",
        "# in this set there is no target, we have to predict it"
      ],
      "execution_count": 6,
      "outputs": [
        {
          "output_type": "execute_result",
          "data": {
            "text/html": [
              "<div>\n",
              "<style scoped>\n",
              "    .dataframe tbody tr th:only-of-type {\n",
              "        vertical-align: middle;\n",
              "    }\n",
              "\n",
              "    .dataframe tbody tr th {\n",
              "        vertical-align: top;\n",
              "    }\n",
              "\n",
              "    .dataframe thead th {\n",
              "        text-align: right;\n",
              "    }\n",
              "</style>\n",
              "<table border=\"1\" class=\"dataframe\">\n",
              "  <thead>\n",
              "    <tr style=\"text-align: right;\">\n",
              "      <th></th>\n",
              "      <th>id</th>\n",
              "      <th>keyword</th>\n",
              "      <th>location</th>\n",
              "      <th>text</th>\n",
              "    </tr>\n",
              "  </thead>\n",
              "  <tbody>\n",
              "    <tr>\n",
              "      <th>0</th>\n",
              "      <td>9972</td>\n",
              "      <td>tsunami</td>\n",
              "      <td>NaN</td>\n",
              "      <td>Crptotech tsunami and banks.\\n http://t.co/KHz...</td>\n",
              "    </tr>\n",
              "    <tr>\n",
              "      <th>1</th>\n",
              "      <td>9865</td>\n",
              "      <td>traumatised</td>\n",
              "      <td>Portsmouth, UK</td>\n",
              "      <td>I'm that traumatised that I can't even spell p...</td>\n",
              "    </tr>\n",
              "    <tr>\n",
              "      <th>2</th>\n",
              "      <td>1937</td>\n",
              "      <td>burning%20buildings</td>\n",
              "      <td>NaN</td>\n",
              "      <td>@foxnewsvideo @AIIAmericanGirI @ANHQDC So ... ...</td>\n",
              "    </tr>\n",
              "    <tr>\n",
              "      <th>3</th>\n",
              "      <td>3560</td>\n",
              "      <td>desolate</td>\n",
              "      <td>NaN</td>\n",
              "      <td>Me watching Law &amp;amp; Order (IB: @sauldale305)...</td>\n",
              "    </tr>\n",
              "    <tr>\n",
              "      <th>4</th>\n",
              "      <td>2731</td>\n",
              "      <td>crushed</td>\n",
              "      <td>bahstun/porta reeko</td>\n",
              "      <td>Papi absolutely crushed that ball</td>\n",
              "    </tr>\n",
              "  </tbody>\n",
              "</table>\n",
              "</div>"
            ],
            "text/plain": [
              "     id  ...                                               text\n",
              "0  9972  ...  Crptotech tsunami and banks.\\n http://t.co/KHz...\n",
              "1  9865  ...  I'm that traumatised that I can't even spell p...\n",
              "2  1937  ...  @foxnewsvideo @AIIAmericanGirI @ANHQDC So ... ...\n",
              "3  3560  ...  Me watching Law &amp; Order (IB: @sauldale305)...\n",
              "4  2731  ...                  Papi absolutely crushed that ball\n",
              "\n",
              "[5 rows x 4 columns]"
            ]
          },
          "metadata": {
            "tags": []
          },
          "execution_count": 6
        }
      ]
    },
    {
      "cell_type": "markdown",
      "metadata": {
        "id": "32VFeh-cCb2G"
      },
      "source": [
        "# EDA / Data viualization"
      ]
    },
    {
      "cell_type": "code",
      "metadata": {
        "id": "q9lpV3u7CxIg"
      },
      "source": [
        "#import matplotlib, seaborn\n",
        "import matplotlib.pyplot as plt\n",
        "import seaborn as sns"
      ],
      "execution_count": 7,
      "outputs": []
    },
    {
      "cell_type": "code",
      "metadata": {
        "colab": {
          "base_uri": "https://localhost:8080/",
          "height": 409
        },
        "id": "VP-Rfqj67UuL",
        "outputId": "00ce57e8-f04b-4b7f-d592-31d42f23212d"
      },
      "source": [
        "# Barchart of the target repartition (0 or 1)\n",
        "plt.figure(figsize=(2.5,5))\n",
        "plt.title(\"Number of not disaster vs real disaster Tweets\", fontsize='20')\n",
        "p1 = sns.countplot(df_train['target'], palette = 'plasma')\n",
        "\n",
        "for p in p1.patches:\n",
        "        p1.annotate('{:6.2f}%'.format(p.get_height()/len(df_train['target'])*100), (p.get_x()+0.1, p.get_height()+50))\n",
        "        \n",
        "plt.show()"
      ],
      "execution_count": 8,
      "outputs": [
        {
          "output_type": "stream",
          "text": [
            "/usr/local/lib/python3.6/dist-packages/seaborn/_decorators.py:43: FutureWarning: Pass the following variable as a keyword arg: x. From version 0.12, the only valid positional argument will be `data`, and passing other arguments without an explicit keyword will result in an error or misinterpretation.\n",
            "  FutureWarning\n"
          ],
          "name": "stderr"
        },
        {
          "output_type": "display_data",
          "data": {
            "image/png": "[encoded data removed]",
            "text/plain": [
              "<Figure size 180x360 with 1 Axes>"
            ]
          },
          "metadata": {
            "tags": [],
            "needs_background": "light"
          }
        }
      ]
    },
    {
      "cell_type": "markdown",
      "metadata": {
        "id": "rX46OJ-PzLol"
      },
      "source": [
        "# Base Rate\n",
        "\n",
        "The base rate represent the frequency of the most common class. Meaning that if we use a naive classifer where we just classify each Tweets in the \"not a disaster\" class, we will be correct with:"
      ]
    },
    {
      "cell_type": "code",
      "metadata": {
        "colab": {
          "base_uri": "https://localhost:8080/"
        },
        "id": "z6-wp263cGck",
        "outputId": "925b538e-f768-4f94-e15b-e87352200be5"
      },
      "source": [
        "\n",
        "#Base rate\n",
        "base_rate = max(len(df_train[df_train[\"target\"]==0])/len(df_train),len(df_train[df_train[\"target\"]==1])/len(df_train))\n",
        "print( 'The base rate is '\"{:.2%}\".format(base_rate))"
      ],
      "execution_count": 9,
      "outputs": [
        {
          "output_type": "stream",
          "text": [
            "The base rate is 57.19%\n"
          ],
          "name": "stdout"
        }
      ]
    },
    {
      "cell_type": "markdown",
      "metadata": {
        "id": "UB2SZEPSGf5d"
      },
      "source": [
        "**The accuracy of a model should at least beat the base rate in order to be considered**"
      ]
    },
    {
      "cell_type": "markdown",
      "metadata": {
        "id": "ijaRbQhFG4jA"
      },
      "source": [
        "#Visualization"
      ]
    },
    {
      "cell_type": "markdown",
      "metadata": {
        "id": "1WIki1xFHKdM"
      },
      "source": [
        "## Top 10 keywors mostly use in each category"
      ]
    },
    {
      "cell_type": "code",
      "metadata": {
        "colab": {
          "base_uri": "https://localhost:8080/",
          "height": 834
        },
        "id": "t9T-s_opaUEJ",
        "outputId": "f9ecba2e-2944-4594-f6f1-372af1406f96"
      },
      "source": [
        "# top 10 keywords mostly use in each category\n",
        "fig,axes= plt.subplots(2,1,figsize=(18,12))\n",
        "\n",
        "temp = pd.DataFrame(df_train[df_train['target']==0].groupby('keyword')['id'].count())\n",
        "temp.sort_values('id',ascending=False,inplace=True)\n",
        "sns.barplot(temp.index[:10],temp['id'][:10],ax=axes[0]).set_title('Normal Tweets')\n",
        "\n",
        "\n",
        "temp = pd.DataFrame(df_train[df_train['target']==1].groupby('keyword')['id'].count())\n",
        "temp.sort_values('id',ascending=False,inplace=True)\n",
        "sns.barplot(temp.index[:10],temp['id'][:10],ax=axes[1]).set_title('Disaster Tweets')\n"
      ],
      "execution_count": 10,
      "outputs": [
        {
          "output_type": "stream",
          "text": [
            "/usr/local/lib/python3.6/dist-packages/seaborn/_decorators.py:43: FutureWarning: Pass the following variables as keyword args: x, y. From version 0.12, the only valid positional argument will be `data`, and passing other arguments without an explicit keyword will result in an error or misinterpretation.\n",
            "  FutureWarning\n",
            "/usr/local/lib/python3.6/dist-packages/seaborn/_decorators.py:43: FutureWarning: Pass the following variables as keyword args: x, y. From version 0.12, the only valid positional argument will be `data`, and passing other arguments without an explicit keyword will result in an error or misinterpretation.\n",
            "  FutureWarning\n"
          ],
          "name": "stderr"
        },
        {
          "output_type": "execute_result",
          "data": {
            "text/plain": [
              "Text(0.5, 1.0, 'Disaster Tweets')"
            ]
          },
          "metadata": {
            "tags": []
          },
          "execution_count": 10
        },
        {
          "output_type": "display_data",
          "data": {
            "image/png": "[encoded data removed]",
            "text/plain": [
              "<Figure size 1296x864 with 2 Axes>"
            ]
          },
          "metadata": {
            "tags": [],
            "needs_background": "light"
          }
        }
      ]
    },
    {
      "cell_type": "markdown",
      "metadata": {
        "id": "_RfNziCgHnem"
      },
      "source": [
        "## Top 10 most used hashtag in each category\n",
        "\n",
        "Hashtags are used in social media content indexing. It allows to search more efficently by using keywords on Tweeter. "
      ]
    },
    {
      "cell_type": "code",
      "metadata": {
        "id": "D3XCm4JYJDbU"
      },
      "source": [
        "# import nltk\n",
        "import nltk\n",
        "from nltk.probability import FreqDist\n",
        "import re"
      ],
      "execution_count": 11,
      "outputs": []
    },
    {
      "cell_type": "code",
      "metadata": {
        "id": "oRehFvo6crOc"
      },
      "source": [
        "# hashtag extraction\n",
        "\n",
        "def hashtag_extract(x):\n",
        "    hashtags = []\n",
        "    # Loop over the words in the tweet\n",
        "    for i in x:\n",
        "        ht = re.findall(r\"#(\\w+)\", i)\n",
        "        hashtags.append(ht)\n",
        "\n",
        "    return hashtags\n",
        "\n",
        "HT_regular = hashtag_extract(df_train['text'][df_train['target'] == 0])\n",
        "\n",
        "HT_disaster = hashtag_extract(df_train['text'][df_train['target'] == 1])\n",
        "\n",
        "# unnesting list\n",
        "HT_regular = sum(HT_regular,[])\n",
        "HT_disaster = sum(HT_disaster,[])"
      ],
      "execution_count": 12,
      "outputs": []
    },
    {
      "cell_type": "code",
      "metadata": {
        "colab": {
          "base_uri": "https://localhost:8080/",
          "height": 671
        },
        "id": "6KLTWa2zeJbY",
        "outputId": "3ea0d6a9-4495-41ff-a350-f9e841cacb67"
      },
      "source": [
        "# plot hashtag frequency \n",
        "\n",
        "fig,axes = plt.subplots(2,1,figsize=(18,10))\n",
        "\n",
        "a = nltk.FreqDist(HT_regular)\n",
        "d = pd.DataFrame({'Hashtag': list(a.keys()),\n",
        "                  'Count': list(a.values())})\n",
        "# selecting top 10 most frequent hashtags     \n",
        "d = d.nlargest(columns=\"Count\", n = 10) \n",
        "plt.figure(figsize=(16,5))\n",
        "sns.barplot(data=d, x= \"Hashtag\", y = \"Count\",ax=axes[0]).set_title('Normal Tweets')\n",
        "\n",
        "\n",
        "a = nltk.FreqDist(HT_disaster)\n",
        "d = pd.DataFrame({'Hashtag': list(a.keys()),\n",
        "                  'Count': list(a.values())})\n",
        "# selecting top 10 most frequent hashtags     \n",
        "d = d.nlargest(columns=\"Count\", n = 10) \n",
        "plt.figure(figsize=(16,5))\n",
        "sns.barplot(data=d, x= \"Hashtag\", y = \"Count\",ax=axes[1]).set_title('Disaster Tweets')\n"
      ],
      "execution_count": 13,
      "outputs": [
        {
          "output_type": "execute_result",
          "data": {
            "text/plain": [
              "Text(0.5, 1.0, 'Disaster Tweets')"
            ]
          },
          "metadata": {
            "tags": []
          },
          "execution_count": 13
        },
        {
          "output_type": "display_data",
          "data": {
            "image/png": "[encoded data removed]",
            "text/plain": [
              "<Figure size 1296x720 with 2 Axes>"
            ]
          },
          "metadata": {
            "tags": [],
            "needs_background": "light"
          }
        },
        {
          "output_type": "display_data",
          "data": {
            "text/plain": [
              "<Figure size 1152x360 with 0 Axes>"
            ]
          },
          "metadata": {
            "tags": []
          }
        },
        {
          "output_type": "display_data",
          "data": {
            "text/plain": [
              "<Figure size 1152x360 with 0 Axes>"
            ]
          },
          "metadata": {
            "tags": []
          }
        }
      ]
    },
    {
      "cell_type": "markdown",
      "metadata": {
        "id": "86rM4tAmmDzR"
      },
      "source": [
        "# 3. Data Cleaning \n",
        "\n",
        "In this part, the goal is to convert text into something the machine will be able to understand. This is called text reprocessing and it exist many python libraries that we can use. We choose to use spacy."
      ]
    },
    {
      "cell_type": "code",
      "metadata": {
        "colab": {
          "base_uri": "https://localhost:8080/"
        },
        "id": "kGFkyEZdZqPQ",
        "outputId": "9f86cb53-7434-4a83-b240-0a1f0661e2f1"
      },
      "source": [
        "!pip install -U spacy"
      ],
      "execution_count": 14,
      "outputs": [
        {
          "output_type": "stream",
          "text": [
            "Collecting spacy\n",
            "\u001b[?25l  Downloading https://files.pythonhosted.org/packages/e5/bf/ca7bb25edd21f1cf9d498d0023808279672a664a70585e1962617ca2740c/spacy-2.3.5-cp36-cp36m-manylinux2014_x86_64.whl (10.4MB)\n",
            "\u001b[K     |████████████████████████████████| 10.4MB 10.5MB/s \n",
            "\u001b[?25hRequirement already satisfied, skipping upgrade: murmurhash<1.1.0,>=0.28.0 in /usr/local/lib/python3.6/dist-packages (from spacy) (1.0.5)\n",
            "Requirement already satisfied, skipping upgrade: blis<0.8.0,>=0.4.0 in /usr/local/lib/python3.6/dist-packages (from spacy) (0.4.1)\n",
            "Requirement already satisfied, skipping upgrade: requests<3.0.0,>=2.13.0 in /usr/local/lib/python3.6/dist-packages (from spacy) (2.23.0)\n",
            "Requirement already satisfied, skipping upgrade: srsly<1.1.0,>=1.0.2 in /usr/local/lib/python3.6/dist-packages (from spacy) (1.0.5)\n",
            "Requirement already satisfied, skipping upgrade: tqdm<5.0.0,>=4.38.0 in /usr/local/lib/python3.6/dist-packages (from spacy) (4.41.1)\n",
            "Requirement already satisfied, skipping upgrade: cymem<2.1.0,>=2.0.2 in /usr/local/lib/python3.6/dist-packages (from spacy) (2.0.5)\n",
            "Requirement already satisfied, skipping upgrade: numpy>=1.15.0 in /usr/local/lib/python3.6/dist-packages (from spacy) (1.18.5)\n",
            "Requirement already satisfied, skipping upgrade: setuptools in /usr/local/lib/python3.6/dist-packages (from spacy) (50.3.2)\n",
            "Requirement already satisfied, skipping upgrade: preshed<3.1.0,>=3.0.2 in /usr/local/lib/python3.6/dist-packages (from spacy) (3.0.5)\n",
            "Requirement already satisfied, skipping upgrade: plac<1.2.0,>=0.9.6 in /usr/local/lib/python3.6/dist-packages (from spacy) (1.1.3)\n",
            "Requirement already satisfied, skipping upgrade: catalogue<1.1.0,>=0.0.7 in /usr/local/lib/python3.6/dist-packages (from spacy) (1.0.0)\n",
            "Requirement already satisfied, skipping upgrade: wasabi<1.1.0,>=0.4.0 in /usr/local/lib/python3.6/dist-packages (from spacy) (0.8.0)\n",
            "Collecting thinc<7.5.0,>=7.4.1\n",
            "\u001b[?25l  Downloading https://files.pythonhosted.org/packages/c0/1a/c3e4ab982214c63d743fad57c45c5e68ee49e4ea4384d27b28595a26ad26/thinc-7.4.5-cp36-cp36m-manylinux2014_x86_64.whl (1.1MB)\n",
            "\u001b[K     |████████████████████████████████| 1.1MB 43.1MB/s \n",
            "\u001b[?25hRequirement already satisfied, skipping upgrade: idna<3,>=2.5 in /usr/local/lib/python3.6/dist-packages (from requests<3.0.0,>=2.13.0->spacy) (2.10)\n",
            "Requirement already satisfied, skipping upgrade: certifi>=2017.4.17 in /usr/local/lib/python3.6/dist-packages (from requests<3.0.0,>=2.13.0->spacy) (2020.12.5)\n",
            "Requirement already satisfied, skipping upgrade: chardet<4,>=3.0.2 in /usr/local/lib/python3.6/dist-packages (from requests<3.0.0,>=2.13.0->spacy) (3.0.4)\n",
            "Requirement already satisfied, skipping upgrade: urllib3!=1.25.0,!=1.25.1,<1.26,>=1.21.1 in /usr/local/lib/python3.6/dist-packages (from requests<3.0.0,>=2.13.0->spacy) (1.24.3)\n",
            "Requirement already satisfied, skipping upgrade: importlib-metadata>=0.20; python_version < \"3.8\" in /usr/local/lib/python3.6/dist-packages (from catalogue<1.1.0,>=0.0.7->spacy) (3.1.1)\n",
            "Requirement already satisfied, skipping upgrade: zipp>=0.5 in /usr/local/lib/python3.6/dist-packages (from importlib-metadata>=0.20; python_version < \"3.8\"->catalogue<1.1.0,>=0.0.7->spacy) (3.4.0)\n",
            "Installing collected packages: thinc, spacy\n",
            "  Found existing installation: thinc 7.4.0\n",
            "    Uninstalling thinc-7.4.0:\n",
            "      Successfully uninstalled thinc-7.4.0\n",
            "  Found existing installation: spacy 2.2.4\n",
            "    Uninstalling spacy-2.2.4:\n",
            "      Successfully uninstalled spacy-2.2.4\n",
            "Successfully installed spacy-2.3.5 thinc-7.4.5\n"
          ],
          "name": "stdout"
        }
      ]
    },
    {
      "cell_type": "markdown",
      "metadata": {
        "id": "L2jqMbTELGvV"
      },
      "source": [
        "## Tokenization\n",
        "\n",
        "Tokenization allow us to represent text as token :\n",
        "\n",
        "<div>\n",
        "<img src=\"https://www.kdnuggets.com/wp-content/uploads/text-tokens-tokenization-manning.jpg\" width=\"500\"/>\n",
        "</div>\n",
        "\n",
        "\n",
        "source: https://www.kdnuggets.com/2020/03/tensorflow-keras-tokenization-text-data-prep.html"
      ]
    },
    {
      "cell_type": "markdown",
      "metadata": {
        "id": "GD88ja25RkUq"
      },
      "source": [
        "##  Lemmatization vs Stemmatization\n",
        "\n",
        "<div>\n",
        "<img src=\"https://miro.medium.com/max/840/1*ES5bt7IoInIq2YioQp2zcQ.png\" width=\"500\"/>\n",
        "</div>\n",
        "\n",
        "\"Lemmatization is similar to stemming with one difference i.e. the final form is also a meaningful word. Thus, stemming operation does not need a dictionary like lemmatization. So, depending on the constraints one have, stemming may be a less memory intensive option for us to consider.\"\n",
        "\n",
        "sources : https://medium.com/swlh/introduction-to-stemming-vs-lemmatization-nlp-8c69eb43ecfe\n",
        "\n"
      ]
    },
    {
      "cell_type": "markdown",
      "metadata": {
        "id": "t3fjvqkMNRpy"
      },
      "source": [
        "## Stop words\n",
        "Stop words are common words used in a language that does not provide any useful information. Removing stopwords are very useful because it reduce noise, and therefore improve accuracy. Fortunately, in spacy library we have already a list of stopwords that can be used."
      ]
    },
    {
      "cell_type": "code",
      "metadata": {
        "id": "IYMQ01p3OBxu"
      },
      "source": [
        "# import spacy\n",
        "\n",
        "import spacy\n",
        "from spacy.lang.en.stop_words import STOP_WORDS #import english stopwords\n",
        "from spacy.lang.en import English #import english dict\n",
        "import string"
      ],
      "execution_count": 15,
      "outputs": []
    },
    {
      "cell_type": "code",
      "metadata": {
        "id": "wjQzo2kgVZSc"
      },
      "source": [
        "# Create a list of stopwords if it shows an error please go to exceution--> redémarrer et tout exécuter\n",
        "\n",
        "stop_words = spacy.lang.en.stop_words.STOP_WORDS\n",
        "\n"
      ],
      "execution_count": 16,
      "outputs": []
    },
    {
      "cell_type": "markdown",
      "metadata": {
        "id": "vYby5AqiOtSA"
      },
      "source": [
        "## Punctuation\n",
        "\n",
        "punctuations does not add any information that's why it is important to remove it from the Tweet in order to improve accuracy. "
      ]
    },
    {
      "cell_type": "code",
      "metadata": {
        "colab": {
          "base_uri": "https://localhost:8080/"
        },
        "id": "OKonV2ChVW20",
        "outputId": "e56208af-f9ff-48e0-affb-dcd79ab01983"
      },
      "source": [
        "# Create a list of punctuation marks\n",
        "punctuations = string.punctuation\n",
        "\n",
        "print(punctuations)"
      ],
      "execution_count": 17,
      "outputs": [
        {
          "output_type": "stream",
          "text": [
            "!\"#$%&'()*+,-./:;<=>?@[\\]^_`{|}~\n"
          ],
          "name": "stdout"
        }
      ]
    },
    {
      "cell_type": "markdown",
      "metadata": {
        "id": "kq8BshYzP_aB"
      },
      "source": [
        "## Define the first cleaning function using spacy\n",
        "The target is to create a function that will do the follow taks :\n",
        "\n",
        "\n",
        "1.   Tonkenize tweets\n",
        "2.   Element Lemmatize tweets\n",
        "3.   Remove stop words\n",
        "4.   Remove punctuations\n",
        "\n",
        "\n"
      ]
    },
    {
      "cell_type": "code",
      "metadata": {
        "id": "bO5Ho-pp_G_r",
        "outputId": "d2911677-174a-4246-9de5-29f64df843ec",
        "colab": {
          "base_uri": "https://localhost:8080/"
        }
      },
      "source": [
        "!pip install spellchecker pyspellchecker"
      ],
      "execution_count": 18,
      "outputs": [
        {
          "output_type": "stream",
          "text": [
            "Collecting spellchecker\n",
            "\u001b[?25l  Downloading https://files.pythonhosted.org/packages/8d/2f/95ff55a821f6fc83999f8418045ee472edcfd5fb06905090f68fda56a82a/spellchecker-0.4.tar.gz (3.9MB)\n",
            "\u001b[K     |████████████████████████████████| 3.9MB 12.3MB/s \n",
            "\u001b[?25hCollecting pyspellchecker\n",
            "\u001b[?25l  Downloading https://files.pythonhosted.org/packages/f1/96/827c132397d0eb5731c1eda05dbfb019ede064ca8c7d0f329160ce0a4acd/pyspellchecker-0.5.5-py2.py3-none-any.whl (1.9MB)\n",
            "\u001b[K     |████████████████████████████████| 1.9MB 45.1MB/s \n",
            "\u001b[?25hRequirement already satisfied: setuptools in /usr/local/lib/python3.6/dist-packages (from spellchecker) (50.3.2)\n",
            "Collecting inexactsearch\n",
            "  Downloading https://files.pythonhosted.org/packages/45/23/0b398af4295da99c5ab69d7b0bff36a2cb68e260a65f64717c17f6a20035/inexactsearch-1.0.2.tar.gz\n",
            "Collecting soundex>=1.0\n",
            "  Downloading https://files.pythonhosted.org/packages/f8/8f/37b9711595d007e82f70ae6f41b6ab6a1fda406a8321ccfc458fb5023b5f/soundex-1.1.3.tar.gz\n",
            "Collecting silpa_common>=0.3\n",
            "  Downloading https://files.pythonhosted.org/packages/8d/55/452f5103cb7071d188a818d9e2f12c19c4c8a12124a28aaa212eb6716a4d/silpa_common-0.3.tar.gz\n",
            "Building wheels for collected packages: spellchecker, inexactsearch, soundex, silpa-common\n",
            "  Building wheel for spellchecker (setup.py) ... \u001b[?25l\u001b[?25hdone\n",
            "  Created wheel for spellchecker: filename=spellchecker-0.4-cp36-none-any.whl size=3966516 sha256=e3b1e712ed10fe736b9b0ffe00b089233e6f75c6e0b42d90946e4b15c3486ee1\n",
            "  Stored in directory: /root/.cache/pip/wheels/a2/e6/ad/28ab959cba7100f5c562a3d1711cd34b630734d241c4e1bd40\n",
            "  Building wheel for inexactsearch (setup.py) ... \u001b[?25l\u001b[?25hdone\n",
            "  Created wheel for inexactsearch: filename=inexactsearch-1.0.2-cp36-none-any.whl size=7113 sha256=dd740445b1acdc6a29e41e730b5ab9cdb250a775dd1574d7379f8a176913b55f\n",
            "  Stored in directory: /root/.cache/pip/wheels/58/e0/c1/e3fed0e9fd1a3708bc91870fb0ba30ef88527540006763674b\n",
            "  Building wheel for soundex (setup.py) ... \u001b[?25l\u001b[?25hdone\n",
            "  Created wheel for soundex: filename=soundex-1.1.3-cp36-none-any.whl size=8862 sha256=9c102de2b1ba88b2d7a9351bf11154bce5e3ffd10908d246324e79d7cb4f0e49\n",
            "  Stored in directory: /root/.cache/pip/wheels/b5/bb/e6/9a4b6be56c40aa707509bddaf6d414187461ded9db7a25a41a\n",
            "  Building wheel for silpa-common (setup.py) ... \u001b[?25l\u001b[?25hdone\n",
            "  Created wheel for silpa-common: filename=silpa_common-0.3-cp36-none-any.whl size=8452 sha256=9c3d5a3b1d0621254bf92ee75f4d8569bd38798116cc1d7a2a9d403ee1a40a19\n",
            "  Stored in directory: /root/.cache/pip/wheels/16/4f/ba/604a82bf904740f1a1d3ad88029c0df5c638bd8825a3cb972d\n",
            "Successfully built spellchecker inexactsearch soundex silpa-common\n",
            "Installing collected packages: silpa-common, soundex, inexactsearch, spellchecker, pyspellchecker\n",
            "Successfully installed inexactsearch-1.0.2 pyspellchecker-0.5.5 silpa-common-0.3 soundex-1.1.3 spellchecker-0.4\n"
          ],
          "name": "stdout"
        }
      ]
    },
    {
      "cell_type": "code",
      "metadata": {
        "colab": {
          "base_uri": "https://localhost:8080/"
        },
        "id": "1VDq9FlKWB0b",
        "outputId": "8143accf-e29a-4799-e55f-0a0f11a4fbc6"
      },
      "source": [
        "from spellchecker import SpellChecker\n",
        "\n",
        "# Load English language model\n",
        "sp = spacy.load('en_core_web_sm')\n",
        "\n",
        "# Create tokenizer function\n",
        "def spacy_tokenizer(sentence):\n",
        "    clean_word = sentence.encode('ascii',errors='ignore').decode('ascii')\n",
        "\n",
        "    # remove html\n",
        "    clean_word = re.sub(r'<.*?>', \"\", clean_word)\n",
        "    \n",
        "    # remove hashtags\n",
        "    clean_word = re.sub(r'#', \"\", clean_word)\n",
        "\n",
        "    # Lowercase\n",
        "    clean_word = clean_word.lower()\n",
        "\n",
        "    # spell checking\n",
        "    #spell_checker = SpellChecker()\n",
        "    #clean_word_spellchecked = []\n",
        "    #for word in clean_word.split():\n",
        "        #clean_word_spellchecked.append(spell_checker.correction(word))\n",
        "\n",
        "    # Create token object, which is used to create documents with linguistic annotations.\n",
        "    #mytokens = sp(' '.join(clean_word_spellchecked))\n",
        "    \n",
        "    mytokens = sp(' '.join(clean_word))\n",
        "    \n",
        "    # Lemmatize each token and convert each token into lowercase\n",
        "    mytokens = [ word.lemma_.lower().strip() if word.lemma_ != \"-PRON-\" else word.lower_ for word in mytokens ]\n",
        "\n",
        "    # Remove stop words and punctuation\n",
        "    mytokens = [ word for word in mytokens if word not in stop_words and word not in punctuations ]\n",
        "\n",
        "    mytokens = ' '.join(mytokens)\n",
        "    \n",
        "    # Return preprocessed list of tokens\n",
        "    return mytokens\n"
      ],
      "execution_count": 22,
      "outputs": [
        {
          "output_type": "stream",
          "text": [
            "/usr/local/lib/python3.6/dist-packages/spacy/util.py:275: UserWarning: [W031] Model 'en_core_web_sm' (2.2.5) requires spaCy v2.2 and is incompatible with the current spaCy version (2.3.5). This may lead to unexpected results or runtime errors. To resolve this, download a newer compatible model or retrain your custom model with the current spaCy version. For more details and available updates, run: python -m spacy validate\n",
            "  warnings.warn(warn_msg)\n"
          ],
          "name": "stderr"
        }
      ]
    },
    {
      "cell_type": "code",
      "metadata": {
        "id": "O5M-5sbq-g9c"
      },
      "source": [
        "# Clean data\r\n",
        "df_train.text = df_train.text.apply(lambda x: spacy_tokenizer(x))\r\n",
        "df_test.text = df_test.text.apply(lambda x: spacy_tokenizer(x))"
      ],
      "execution_count": 23,
      "outputs": []
    },
    {
      "cell_type": "markdown",
      "metadata": {
        "id": "X3-d46ki3bFo"
      },
      "source": [
        "## Stemming\n",
        "We used stemming to clean our data, to clean slang words but decided to not use this since our accuracy dropped to a level of 0.78"
      ]
    },
    {
      "cell_type": "code",
      "metadata": {
        "colab": {
          "base_uri": "https://localhost:8080/"
        },
        "id": "LBQP8R9C6Dwr",
        "outputId": "a92b94d7-958d-43ae-f557-d5f923753ee1"
      },
      "source": [
        "#Stemmatization\n",
        "import snowballstemmer\n",
        "\n",
        "stemmer = snowballstemmer.stemmer('english');\n",
        "print(stemmer.stemWords(\"We are the world\".split()));"
      ],
      "execution_count": 24,
      "outputs": [
        {
          "output_type": "stream",
          "text": [
            "['We', 'are', 'the', 'world']\n"
          ],
          "name": "stdout"
        }
      ]
    },
    {
      "cell_type": "markdown",
      "metadata": {
        "id": "jOOu15Rh-142"
      },
      "source": [
        "def spacy_tokenizer(text):\n",
        "\n",
        "        \"\"\"\n",
        "        Tokenizes sequences of text and stems the tokens\n",
        "        :param text: String to tokenize\n",
        "        :return: List with stemmed tokens\n",
        "        \"\"\"\n",
        "        tokens = nltk.WhitespaceTokenizer().spacy_tokenizer(text)\n",
        "        tokens = list(set(re.sub(\"[^a-zA-Z\\']\", \"\", token) for token in tokens))\n",
        "        tokens = [word for word in tokens if word not in stopwords.words('english')]\n",
        "        tokens = list(set(re.sub(\"[^a-zA-Z]\", \"\", token) for token in tokens))\n",
        "        stems = []\n",
        "        stemmer = SnowballStemmer(\"english\")\n",
        "        for token in tokens:\n",
        "            token = stemmer.stem(token)\n",
        "            if token != \"\":\n",
        "                stems.append(token)\n",
        "        return stems\n",
        "\n",
        "        "
      ]
    },
    {
      "cell_type": "markdown",
      "metadata": {
        "id": "DxnwOp-ETGWr"
      },
      "source": [
        "## TF-IDF vectors\n",
        "\n",
        "<div>\n",
        "<img src=\"https://www.researchgate.net/profile/Haider_Al-Khateeb2/publication/291950178/figure/fig1/AS:330186932408324@1455734107458/Term-Frequency-Inverse-Document-Frequency-TF-IDF.png\" width=\"500\"/>\n",
        "</div>\n",
        "\n",
        "source:https://www.researchgate.net/figure/Term-Frequency-Inverse-Document-Frequency-TF-IDF_fig1_291950178\n",
        "\n",
        "After text cleaning, we use vectorization technique in order to create vectors that can be understood by the machine. TF-IDF allows us to take into account frequent word that is relevant and give less importance to frequent words that appear frequently in the corpus. Moreover, we can therefore use somme regression model or other model since text become vectors of numbers. "
      ]
    },
    {
      "cell_type": "code",
      "metadata": {
        "id": "htGJBbMkjyo7"
      },
      "source": [
        "#TF-IDF feature vectors \n",
        "from sklearn.feature_extraction.text import CountVectorizer,TfidfVectorizer\n",
        "tfidf_vector = TfidfVectorizer(tokenizer=spacy_tokenizer) # we use the spacy_tokenizer that we defined\n"
      ],
      "execution_count": 25,
      "outputs": []
    },
    {
      "cell_type": "markdown",
      "metadata": {
        "id": "Bc2CGtTTz4pi"
      },
      "source": [
        "# 4. Training using Logistic Model\n",
        "\n",
        "<div>\n",
        "<img src=\"https://miro.medium.com/max/768/0*gKOV65tvGfY8SMem.png\" width=\"500\"/>\n",
        "</div>\n",
        "\n",
        "source: https://medium.com/@ODSC/logistic-regression-with-python-ede39f8573c7\n"
      ]
    },
    {
      "cell_type": "code",
      "metadata": {
        "id": "ry6RTGriDuOR"
      },
      "source": [
        "#training\n",
        "from sklearn.linear_model import LogisticRegression\n",
        "from sklearn.model_selection import train_test_split\n",
        "LogisticRegression(solver=\"lbfgs\", max_iter=1000, random_state=72)\n",
        "\n",
        "# define X and Y traning set\n",
        "\n",
        "df_X = df_train[\"text\"]\n",
        "df_Y = df_train[\"target\"]\n",
        "\n",
        "# Train test split\n",
        "\n",
        "X_train, X_test, y_train, y_test = train_test_split(df_X, df_Y, test_size=0.2, random_state=42)\n",
        "\n",
        "\n",
        "\n",
        "\n"
      ],
      "execution_count": 26,
      "outputs": []
    },
    {
      "cell_type": "code",
      "metadata": {
        "colab": {
          "base_uri": "https://localhost:8080/"
        },
        "id": "sEb6c15ikSfS",
        "outputId": "8f6846b4-dd7f-4c39-cec6-e8e3fcaad63f"
      },
      "source": [
        "# Define classifier\n",
        "classifier = LogisticRegression()\n",
        "#import pipeline\n",
        "from sklearn.pipeline import Pipeline\n",
        "# Create pipeline we use pipeline to apply several data transformation here, vectorize then apply the classifier (logistic reg)\n",
        "pipe = Pipeline([('vectorizer', tfidf_vector),\n",
        "                 ('classifier', classifier)])\n",
        "\n",
        "# Fit model on training set\n",
        "pipe.fit(X_train, y_train)"
      ],
      "execution_count": 27,
      "outputs": [
        {
          "output_type": "execute_result",
          "data": {
            "text/plain": [
              "Pipeline(memory=None,\n",
              "         steps=[('vectorizer',\n",
              "                 TfidfVectorizer(analyzer='word', binary=False,\n",
              "                                 decode_error='strict',\n",
              "                                 dtype=<class 'numpy.float64'>,\n",
              "                                 encoding='utf-8', input='content',\n",
              "                                 lowercase=True, max_df=1.0, max_features=None,\n",
              "                                 min_df=1, ngram_range=(1, 1), norm='l2',\n",
              "                                 preprocessor=None, smooth_idf=True,\n",
              "                                 stop_words=None, strip_accents=None,\n",
              "                                 sublinear_tf=False,\n",
              "                                 token_patt...,\n",
              "                                 tokenizer=<function spacy_tokenizer at 0x7f5d29aafbf8>,\n",
              "                                 use_idf=True, vocabulary=None)),\n",
              "                ('classifier',\n",
              "                 LogisticRegression(C=1.0, class_weight=None, dual=False,\n",
              "                                    fit_intercept=True, intercept_scaling=1,\n",
              "                                    l1_ratio=None, max_iter=100,\n",
              "                                    multi_class='auto', n_jobs=None,\n",
              "                                    penalty='l2', random_state=None,\n",
              "                                    solver='lbfgs', tol=0.0001, verbose=0,\n",
              "                                    warm_start=False))],\n",
              "         verbose=False)"
            ]
          },
          "metadata": {
            "tags": []
          },
          "execution_count": 27
        }
      ]
    },
    {
      "cell_type": "markdown",
      "metadata": {
        "id": "PiHrrU-SZSNC"
      },
      "source": [
        "# Model evaluation Logistic (submission 1)\n",
        "\n",
        "We create an evaluation function in order to compute accuracy of any model"
      ]
    },
    {
      "cell_type": "code",
      "metadata": {
        "id": "M0uDS5skb34e"
      },
      "source": [
        "# y_pred_test on training set, we use the 20% of the traning set to test our model\n",
        "\n",
        "y_pred = pipe.predict(X_test)"
      ],
      "execution_count": 28,
      "outputs": []
    },
    {
      "cell_type": "code",
      "metadata": {
        "id": "5DM-vA29aO92"
      },
      "source": [
        "# Evaluate the model\n",
        "def evaluate(true, pred):\n",
        "    precision = precision_score(true, pred)\n",
        "    recall = recall_score(true, pred)\n",
        "    f1 = f1_score(true, pred)\n",
        "    print(f\"CONFUSION MATRIX:\\n{confusion_matrix(true, pred)}\")\n",
        "    print(f\"ACCURACY SCORE:\\n{accuracy_score(true, pred):.4f}\")\n",
        "    print(f\"CLASSIFICATION REPORT:\\n\\tPrecision: {precision:.4f}\\n\\tRecall: {recall:.4f}\\n\\tF1_Score: {f1:.4f}\")"
      ],
      "execution_count": 29,
      "outputs": []
    },
    {
      "cell_type": "code",
      "metadata": {
        "colab": {
          "base_uri": "https://localhost:8080/"
        },
        "id": "jdrCIbK1aRaP",
        "outputId": "a4988901-190b-4ddd-a931-f7a92507581d"
      },
      "source": [
        "# Evaluation - training set\n",
        "from sklearn.metrics import confusion_matrix, accuracy_score, precision_score, recall_score, f1_score\n",
        "evaluate(y_test, y_pred)"
      ],
      "execution_count": 30,
      "outputs": [
        {
          "output_type": "stream",
          "text": [
            "CONFUSION MATRIX:\n",
            "[[661  88]\n",
            " [390 156]]\n",
            "ACCURACY SCORE:\n",
            "0.6309\n",
            "CLASSIFICATION REPORT:\n",
            "\tPrecision: 0.6393\n",
            "\tRecall: 0.2857\n",
            "\tF1_Score: 0.3949\n"
          ],
          "name": "stdout"
        }
      ]
    },
    {
      "cell_type": "code",
      "metadata": {
        "colab": {
          "base_uri": "https://localhost:8080/",
          "height": 877
        },
        "id": "xlIrzoUWxy2-",
        "outputId": "0c3b5dbc-9cb5-468f-b78e-42954841622c"
      },
      "source": [
        "# Evaluate model confusion graph\n",
        "conf_mat = confusion_matrix(y_test, y_pred)\n",
        "fig, ax = plt.subplots(figsize=(15,15))\n",
        "sns.heatmap(conf_mat, annot=True, fmt='d')\n",
        "plt.ylabel('Actual')\n",
        "plt.xlabel('Predicted')\n",
        "plt.show()"
      ],
      "execution_count": 31,
      "outputs": [
        {
          "output_type": "display_data",
          "data": {
            "image/png": "[encoded data removed]",
            "text/plain": [
              "<Figure size 1080x1080 with 2 Axes>"
            ]
          },
          "metadata": {
            "tags": [],
            "needs_background": "light"
          }
        }
      ]
    },
    {
      "cell_type": "markdown",
      "metadata": {
        "id": "lLRnWpCybtVu"
      },
      "source": [
        "## First result \n",
        "\n"
      ]
    },
    {
      "cell_type": "code",
      "metadata": {
        "colab": {
          "base_uri": "https://localhost:8080/"
        },
        "id": "U5rGtC6ccFx5",
        "outputId": "df256019-a285-435f-fd78-8bb502e5bfde"
      },
      "source": [
        "accuracy = round(accuracy_score(y_test, y_pred), 4)\n",
        "print(accuracy )"
      ],
      "execution_count": 32,
      "outputs": [
        {
          "output_type": "stream",
          "text": [
            "0.6309\n"
          ],
          "name": "stdout"
        }
      ]
    },
    {
      "cell_type": "markdown",
      "metadata": {
        "id": "abeaBAhlcvKy"
      },
      "source": [
        "## First submission, using non labeled dataset (submission 2)"
      ]
    },
    {
      "cell_type": "code",
      "metadata": {
        "id": "71kroYYJWxZa"
      },
      "source": [
        "# apply logistic reg to test data (non labeled)\n",
        "\n",
        "df_X_test = df_test['text']\n",
        "\n"
      ],
      "execution_count": 33,
      "outputs": []
    },
    {
      "cell_type": "code",
      "metadata": {
        "colab": {
          "base_uri": "https://localhost:8080/"
        },
        "id": "ZBOabojCXoYS",
        "outputId": "2dd31b03-dc65-42d5-fc33-667d491bf8f7"
      },
      "source": [
        "# apply model to test data\n",
        "y_pred_test = pipe.predict(df_X_test)\n",
        "y_pred_test.shape\n"
      ],
      "execution_count": 34,
      "outputs": [
        {
          "output_type": "execute_result",
          "data": {
            "text/plain": [
              "(1142,)"
            ]
          },
          "metadata": {
            "tags": []
          },
          "execution_count": 34
        }
      ]
    },
    {
      "cell_type": "code",
      "metadata": {
        "colab": {
          "base_uri": "https://localhost:8080/"
        },
        "id": "PXKDZ6TCEAky",
        "outputId": "941a4902-0385-456e-c507-fd736e077b1c"
      },
      "source": [
        "\n",
        "y_pred_test.shape\n"
      ],
      "execution_count": 35,
      "outputs": [
        {
          "output_type": "execute_result",
          "data": {
            "text/plain": [
              "(1142,)"
            ]
          },
          "metadata": {
            "tags": []
          },
          "execution_count": 35
        }
      ]
    },
    {
      "cell_type": "code",
      "metadata": {
        "colab": {
          "base_uri": "https://localhost:8080/",
          "height": 195
        },
        "id": "TcU4qyo8GNqm",
        "outputId": "680c8204-4227-41f0-8f0f-7051252b4428"
      },
      "source": [
        "# export the predicted target for submission 1\n",
        "y_pred_test_df = pd.DataFrame(y_pred) # transfom into dataframe\n",
        "y_pred_test_df.columns = ['target'] # set column name\n",
        "y_pred_test_df.to_csv(r'/content/DM_Project_Google/Data/accuracy_0.csv', index = False)\n",
        "y_pred_test_df.shape\n",
        "y_pred_test_df.head()\n"
      ],
      "execution_count": 36,
      "outputs": [
        {
          "output_type": "execute_result",
          "data": {
            "text/html": [
              "<div>\n",
              "<style scoped>\n",
              "    .dataframe tbody tr th:only-of-type {\n",
              "        vertical-align: middle;\n",
              "    }\n",
              "\n",
              "    .dataframe tbody tr th {\n",
              "        vertical-align: top;\n",
              "    }\n",
              "\n",
              "    .dataframe thead th {\n",
              "        text-align: right;\n",
              "    }\n",
              "</style>\n",
              "<table border=\"1\" class=\"dataframe\">\n",
              "  <thead>\n",
              "    <tr style=\"text-align: right;\">\n",
              "      <th></th>\n",
              "      <th>target</th>\n",
              "    </tr>\n",
              "  </thead>\n",
              "  <tbody>\n",
              "    <tr>\n",
              "      <th>0</th>\n",
              "      <td>0</td>\n",
              "    </tr>\n",
              "    <tr>\n",
              "      <th>1</th>\n",
              "      <td>1</td>\n",
              "    </tr>\n",
              "    <tr>\n",
              "      <th>2</th>\n",
              "      <td>1</td>\n",
              "    </tr>\n",
              "    <tr>\n",
              "      <th>3</th>\n",
              "      <td>1</td>\n",
              "    </tr>\n",
              "    <tr>\n",
              "      <th>4</th>\n",
              "      <td>0</td>\n",
              "    </tr>\n",
              "  </tbody>\n",
              "</table>\n",
              "</div>"
            ],
            "text/plain": [
              "   target\n",
              "0       0\n",
              "1       1\n",
              "2       1\n",
              "3       1\n",
              "4       0"
            ]
          },
          "metadata": {
            "tags": []
          },
          "execution_count": 36
        }
      ]
    },
    {
      "cell_type": "code",
      "metadata": {
        "colab": {
          "base_uri": "https://localhost:8080/"
        },
        "id": "zfo6vIqHunBL",
        "outputId": "17866afb-5498-4da0-e04b-a389e5ffb653"
      },
      "source": [
        "#git push\n",
        "!git push 'https://github.com/ThomasOkoro/content/DM_Project_Google/Data/accuracy_0.csv' #push from github into the destination directory\n",
        "!ls"
      ],
      "execution_count": 37,
      "outputs": [
        {
          "output_type": "stream",
          "text": [
            "fatal: not a git repository (or any of the parent directories): .git\n",
            "DM_Project_Google  sample_data\n"
          ],
          "name": "stdout"
        }
      ]
    },
    {
      "cell_type": "markdown",
      "metadata": {
        "id": "iciZ24x9duPj"
      },
      "source": [
        "# Accuracy Improvement\n",
        "\n",
        "\n",
        "\n",
        "\n",
        "\n",
        "\n",
        "---\n",
        "\n",
        "\n",
        "\n"
      ]
    },
    {
      "cell_type": "markdown",
      "metadata": {
        "id": "L-dJeEUQXN-6"
      },
      "source": [
        "## Cross validation\r\n",
        "\r\n",
        "Cross validation : we separed training set into N training part and run multiple regression. Cross validation can increase the accuracy of a model by that capturing most of the patterns from the data and by not picking up too much on the noise."
      ]
    },
    {
      "cell_type": "markdown",
      "metadata": {
        "id": "Fso9uPnJ3Wx_"
      },
      "source": [
        "<div>\r\n",
        "<img src=\"https://upload.wikimedia.org/wikipedia/commons/thumb/b/b5/K-fold_cross_validation_EN.svg/1920px-K-fold_cross_validation_EN.svg.png\" width=\"500\"/>\r\n",
        "</div>\r\n",
        "\r\n",
        "sources: https://en.wikipedia.org/wiki/Cross-validation_(statistics)#/media/File:K-fold_cross_validation_EN.svg"
      ]
    },
    {
      "cell_type": "code",
      "metadata": {
        "colab": {
          "base_uri": "https://localhost:8080/"
        },
        "id": "W7ZR1wYG37EY",
        "outputId": "5750c03b-9764-4689-fb97-c90af7b84eaa"
      },
      "source": [
        "# logistic reg with cross validation\n",
        "\n",
        "from sklearn.linear_model import LogisticRegressionCV\n",
        "\n",
        "# Define classifier\n",
        "classifier = LogisticRegressionCV(cv=5, random_state=0)\n",
        "\n",
        "# Create pipeline\n",
        "pipe = Pipeline([('vectorizer', tfidf_vector),\n",
        "                 ('classifier', classifier)])\n",
        "\n",
        "# Fit model on training set\n",
        "pipe.fit(X_train, y_train)\n"
      ],
      "execution_count": 38,
      "outputs": [
        {
          "output_type": "stream",
          "text": [
            "/usr/local/lib/python3.6/dist-packages/sklearn/linear_model/_logistic.py:940: ConvergenceWarning: lbfgs failed to converge (status=1):\n",
            "STOP: TOTAL NO. of ITERATIONS REACHED LIMIT.\n",
            "\n",
            "Increase the number of iterations (max_iter) or scale the data as shown in:\n",
            "    https://scikit-learn.org/stable/modules/preprocessing.html\n",
            "Please also refer to the documentation for alternative solver options:\n",
            "    https://scikit-learn.org/stable/modules/linear_model.html#logistic-regression\n",
            "  extra_warning_msg=_LOGISTIC_SOLVER_CONVERGENCE_MSG)\n",
            "/usr/local/lib/python3.6/dist-packages/sklearn/linear_model/_logistic.py:940: ConvergenceWarning: lbfgs failed to converge (status=1):\n",
            "STOP: TOTAL NO. of ITERATIONS REACHED LIMIT.\n",
            "\n",
            "Increase the number of iterations (max_iter) or scale the data as shown in:\n",
            "    https://scikit-learn.org/stable/modules/preprocessing.html\n",
            "Please also refer to the documentation for alternative solver options:\n",
            "    https://scikit-learn.org/stable/modules/linear_model.html#logistic-regression\n",
            "  extra_warning_msg=_LOGISTIC_SOLVER_CONVERGENCE_MSG)\n",
            "/usr/local/lib/python3.6/dist-packages/sklearn/linear_model/_logistic.py:940: ConvergenceWarning: lbfgs failed to converge (status=1):\n",
            "STOP: TOTAL NO. of ITERATIONS REACHED LIMIT.\n",
            "\n",
            "Increase the number of iterations (max_iter) or scale the data as shown in:\n",
            "    https://scikit-learn.org/stable/modules/preprocessing.html\n",
            "Please also refer to the documentation for alternative solver options:\n",
            "    https://scikit-learn.org/stable/modules/linear_model.html#logistic-regression\n",
            "  extra_warning_msg=_LOGISTIC_SOLVER_CONVERGENCE_MSG)\n",
            "/usr/local/lib/python3.6/dist-packages/sklearn/linear_model/_logistic.py:940: ConvergenceWarning: lbfgs failed to converge (status=1):\n",
            "STOP: TOTAL NO. of ITERATIONS REACHED LIMIT.\n",
            "\n",
            "Increase the number of iterations (max_iter) or scale the data as shown in:\n",
            "    https://scikit-learn.org/stable/modules/preprocessing.html\n",
            "Please also refer to the documentation for alternative solver options:\n",
            "    https://scikit-learn.org/stable/modules/linear_model.html#logistic-regression\n",
            "  extra_warning_msg=_LOGISTIC_SOLVER_CONVERGENCE_MSG)\n",
            "/usr/local/lib/python3.6/dist-packages/sklearn/linear_model/_logistic.py:940: ConvergenceWarning: lbfgs failed to converge (status=1):\n",
            "STOP: TOTAL NO. of ITERATIONS REACHED LIMIT.\n",
            "\n",
            "Increase the number of iterations (max_iter) or scale the data as shown in:\n",
            "    https://scikit-learn.org/stable/modules/preprocessing.html\n",
            "Please also refer to the documentation for alternative solver options:\n",
            "    https://scikit-learn.org/stable/modules/linear_model.html#logistic-regression\n",
            "  extra_warning_msg=_LOGISTIC_SOLVER_CONVERGENCE_MSG)\n",
            "/usr/local/lib/python3.6/dist-packages/sklearn/linear_model/_logistic.py:940: ConvergenceWarning: lbfgs failed to converge (status=1):\n",
            "STOP: TOTAL NO. of ITERATIONS REACHED LIMIT.\n",
            "\n",
            "Increase the number of iterations (max_iter) or scale the data as shown in:\n",
            "    https://scikit-learn.org/stable/modules/preprocessing.html\n",
            "Please also refer to the documentation for alternative solver options:\n",
            "    https://scikit-learn.org/stable/modules/linear_model.html#logistic-regression\n",
            "  extra_warning_msg=_LOGISTIC_SOLVER_CONVERGENCE_MSG)\n",
            "/usr/local/lib/python3.6/dist-packages/sklearn/linear_model/_logistic.py:940: ConvergenceWarning: lbfgs failed to converge (status=1):\n",
            "STOP: TOTAL NO. of ITERATIONS REACHED LIMIT.\n",
            "\n",
            "Increase the number of iterations (max_iter) or scale the data as shown in:\n",
            "    https://scikit-learn.org/stable/modules/preprocessing.html\n",
            "Please also refer to the documentation for alternative solver options:\n",
            "    https://scikit-learn.org/stable/modules/linear_model.html#logistic-regression\n",
            "  extra_warning_msg=_LOGISTIC_SOLVER_CONVERGENCE_MSG)\n",
            "/usr/local/lib/python3.6/dist-packages/sklearn/linear_model/_logistic.py:940: ConvergenceWarning: lbfgs failed to converge (status=1):\n",
            "STOP: TOTAL NO. of ITERATIONS REACHED LIMIT.\n",
            "\n",
            "Increase the number of iterations (max_iter) or scale the data as shown in:\n",
            "    https://scikit-learn.org/stable/modules/preprocessing.html\n",
            "Please also refer to the documentation for alternative solver options:\n",
            "    https://scikit-learn.org/stable/modules/linear_model.html#logistic-regression\n",
            "  extra_warning_msg=_LOGISTIC_SOLVER_CONVERGENCE_MSG)\n",
            "/usr/local/lib/python3.6/dist-packages/sklearn/linear_model/_logistic.py:940: ConvergenceWarning: lbfgs failed to converge (status=1):\n",
            "STOP: TOTAL NO. of ITERATIONS REACHED LIMIT.\n",
            "\n",
            "Increase the number of iterations (max_iter) or scale the data as shown in:\n",
            "    https://scikit-learn.org/stable/modules/preprocessing.html\n",
            "Please also refer to the documentation for alternative solver options:\n",
            "    https://scikit-learn.org/stable/modules/linear_model.html#logistic-regression\n",
            "  extra_warning_msg=_LOGISTIC_SOLVER_CONVERGENCE_MSG)\n",
            "/usr/local/lib/python3.6/dist-packages/sklearn/linear_model/_logistic.py:940: ConvergenceWarning: lbfgs failed to converge (status=1):\n",
            "STOP: TOTAL NO. of ITERATIONS REACHED LIMIT.\n",
            "\n",
            "Increase the number of iterations (max_iter) or scale the data as shown in:\n",
            "    https://scikit-learn.org/stable/modules/preprocessing.html\n",
            "Please also refer to the documentation for alternative solver options:\n",
            "    https://scikit-learn.org/stable/modules/linear_model.html#logistic-regression\n",
            "  extra_warning_msg=_LOGISTIC_SOLVER_CONVERGENCE_MSG)\n",
            "/usr/local/lib/python3.6/dist-packages/sklearn/linear_model/_logistic.py:940: ConvergenceWarning: lbfgs failed to converge (status=1):\n",
            "STOP: TOTAL NO. of ITERATIONS REACHED LIMIT.\n",
            "\n",
            "Increase the number of iterations (max_iter) or scale the data as shown in:\n",
            "    https://scikit-learn.org/stable/modules/preprocessing.html\n",
            "Please also refer to the documentation for alternative solver options:\n",
            "    https://scikit-learn.org/stable/modules/linear_model.html#logistic-regression\n",
            "  extra_warning_msg=_LOGISTIC_SOLVER_CONVERGENCE_MSG)\n"
          ],
          "name": "stderr"
        },
        {
          "output_type": "execute_result",
          "data": {
            "text/plain": [
              "Pipeline(memory=None,\n",
              "         steps=[('vectorizer',\n",
              "                 TfidfVectorizer(analyzer='word', binary=False,\n",
              "                                 decode_error='strict',\n",
              "                                 dtype=<class 'numpy.float64'>,\n",
              "                                 encoding='utf-8', input='content',\n",
              "                                 lowercase=True, max_df=1.0, max_features=None,\n",
              "                                 min_df=1, ngram_range=(1, 1), norm='l2',\n",
              "                                 preprocessor=None, smooth_idf=True,\n",
              "                                 stop_words=None, strip_accents=None,\n",
              "                                 sublinear_tf=False,\n",
              "                                 token_patt...\n",
              "                                 tokenizer=<function spacy_tokenizer at 0x7f5d29aafbf8>,\n",
              "                                 use_idf=True, vocabulary=None)),\n",
              "                ('classifier',\n",
              "                 LogisticRegressionCV(Cs=10, class_weight=None, cv=5,\n",
              "                                      dual=False, fit_intercept=True,\n",
              "                                      intercept_scaling=1.0, l1_ratios=None,\n",
              "                                      max_iter=100, multi_class='auto',\n",
              "                                      n_jobs=None, penalty='l2', random_state=0,\n",
              "                                      refit=True, scoring=None, solver='lbfgs',\n",
              "                                      tol=0.0001, verbose=0))],\n",
              "         verbose=False)"
            ]
          },
          "metadata": {
            "tags": []
          },
          "execution_count": 38
        }
      ]
    },
    {
      "cell_type": "code",
      "metadata": {
        "colab": {
          "base_uri": "https://localhost:8080/"
        },
        "id": "LBI8kwhP45u0",
        "outputId": "415745eb-37a2-411e-a7b6-828ff5bc31f0"
      },
      "source": [
        "# test accuracy of this cv model\n",
        "# Accuracy on test set\n",
        "y_pred = pipe.predict(X_test)\n",
        "evaluate(y_test, y_pred)"
      ],
      "execution_count": 39,
      "outputs": [
        {
          "output_type": "stream",
          "text": [
            "CONFUSION MATRIX:\n",
            "[[574 175]\n",
            " [247 299]]\n",
            "ACCURACY SCORE:\n",
            "0.6741\n",
            "CLASSIFICATION REPORT:\n",
            "\tPrecision: 0.6308\n",
            "\tRecall: 0.5476\n",
            "\tF1_Score: 0.5863\n"
          ],
          "name": "stdout"
        }
      ]
    },
    {
      "cell_type": "markdown",
      "metadata": {
        "id": "W_a9BgcO6h8F"
      },
      "source": [
        "## Model evalutation : Logistic + cross validation (submission 2)"
      ]
    },
    {
      "cell_type": "code",
      "metadata": {
        "id": "-OCDbg3o7m3V"
      },
      "source": [
        "# apply model to test data\r\n",
        "y_pred_test_cv = pipe.predict(df_X_test)\r\n"
      ],
      "execution_count": 40,
      "outputs": []
    },
    {
      "cell_type": "code",
      "metadata": {
        "id": "UG8QJS397ypL",
        "colab": {
          "base_uri": "https://localhost:8080/",
          "height": 195
        },
        "outputId": "f7c7949a-8dcc-4780-db0a-c6ebcd62724d"
      },
      "source": [
        "# export the predicted target for submission 2\r\n",
        "y_pred_test_df_cv = pd.DataFrame(y_pred_test_cv) # transfom into dataframe\r\n",
        "y_pred_test_df_cv.columns = ['target'] # set column name\r\n",
        "y_pred_test_df_cv.to_csv(r'/content/DM_Project_Google/Data/accuracy_1_cv.csv', index = False)\r\n",
        "y_pred_test_df_cv.shape\r\n",
        "y_pred_test_df_cv.head()"
      ],
      "execution_count": 41,
      "outputs": [
        {
          "output_type": "execute_result",
          "data": {
            "text/html": [
              "<div>\n",
              "<style scoped>\n",
              "    .dataframe tbody tr th:only-of-type {\n",
              "        vertical-align: middle;\n",
              "    }\n",
              "\n",
              "    .dataframe tbody tr th {\n",
              "        vertical-align: top;\n",
              "    }\n",
              "\n",
              "    .dataframe thead th {\n",
              "        text-align: right;\n",
              "    }\n",
              "</style>\n",
              "<table border=\"1\" class=\"dataframe\">\n",
              "  <thead>\n",
              "    <tr style=\"text-align: right;\">\n",
              "      <th></th>\n",
              "      <th>target</th>\n",
              "    </tr>\n",
              "  </thead>\n",
              "  <tbody>\n",
              "    <tr>\n",
              "      <th>0</th>\n",
              "      <td>0</td>\n",
              "    </tr>\n",
              "    <tr>\n",
              "      <th>1</th>\n",
              "      <td>0</td>\n",
              "    </tr>\n",
              "    <tr>\n",
              "      <th>2</th>\n",
              "      <td>1</td>\n",
              "    </tr>\n",
              "    <tr>\n",
              "      <th>3</th>\n",
              "      <td>1</td>\n",
              "    </tr>\n",
              "    <tr>\n",
              "      <th>4</th>\n",
              "      <td>0</td>\n",
              "    </tr>\n",
              "  </tbody>\n",
              "</table>\n",
              "</div>"
            ],
            "text/plain": [
              "   target\n",
              "0       0\n",
              "1       0\n",
              "2       1\n",
              "3       1\n",
              "4       0"
            ]
          },
          "metadata": {
            "tags": []
          },
          "execution_count": 41
        }
      ]
    },
    {
      "cell_type": "markdown",
      "metadata": {
        "id": "2yHeFihrV8HJ"
      },
      "source": [
        "# N-gram \r\n",
        "\r\n"
      ]
    },
    {
      "cell_type": "markdown",
      "metadata": {
        "id": "uV8pMYFlWtu_"
      },
      "source": [
        "<div>\r\n",
        "<img src=\"https://images.deepai.org/django-summernote/2019-04-11/f98290ce-a9e9-48c6-8330-4e9a5fe55331.png\" width=\"500\"/>\r\n",
        "</div>\r\n",
        "\r\n",
        "sources: https://deepai.org/machine-learning-glossary-and-terms/n-gram\r\n",
        "\r\n",
        "\r\n",
        "N-grams technique are used to take into account of the word order in a sentence. We will try to define different pairs of N-grams and select the one which provide the best accuracy"
      ]
    },
    {
      "cell_type": "code",
      "metadata": {
        "colab": {
          "base_uri": "https://localhost:8080/"
        },
        "id": "oxGDteoSeBtt",
        "outputId": "7517f13b-6f19-4c0f-9e11-4d3a5913a054"
      },
      "source": [
        "# N-grams approach\n",
        "\n",
        "# Create list of configs for N-grams\n",
        "def configs():\n",
        "\n",
        "    models = list()\n",
        "    \n",
        "    # Define config lists\n",
        "    ngram_range = [(1,1), (1,2), (1, 3), (2, 2), (2, 3), (3, 3)]\n",
        "    min_df = [1]\n",
        "    max_df = [1.0]\n",
        "    analyzer=['word', 'char']\n",
        "    \n",
        "    # Create config instances\n",
        "    for n in ngram_range:\n",
        "        for i in min_df:\n",
        "            for j in max_df:\n",
        "              for a in analyzer:\n",
        "                    cfg = [n, i, j, a]\n",
        "                    models.append(cfg)\n",
        "    return models\n",
        "configs = configs()\n",
        "configs[:10]"
      ],
      "execution_count": 42,
      "outputs": [
        {
          "output_type": "execute_result",
          "data": {
            "text/plain": [
              "[[(1, 1), 1, 1.0, 'word'],\n",
              " [(1, 1), 1, 1.0, 'char'],\n",
              " [(1, 2), 1, 1.0, 'word'],\n",
              " [(1, 2), 1, 1.0, 'char'],\n",
              " [(1, 3), 1, 1.0, 'word'],\n",
              " [(1, 3), 1, 1.0, 'char'],\n",
              " [(2, 2), 1, 1.0, 'word'],\n",
              " [(2, 2), 1, 1.0, 'char'],\n",
              " [(2, 3), 1, 1.0, 'word'],\n",
              " [(2, 3), 1, 1.0, 'char']]"
            ]
          },
          "metadata": {
            "tags": []
          },
          "execution_count": 42
        }
      ]
    },
    {
      "cell_type": "markdown",
      "metadata": {
        "id": "f5w-sdzKZFuO"
      },
      "source": [
        "## Apply the N-grams config using logistic regression"
      ]
    },
    {
      "cell_type": "code",
      "metadata": {
        "colab": {
          "base_uri": "https://localhost:8080/"
        },
        "id": "hWfUW7oIerZm",
        "outputId": "31825ec0-22ec-4005-f685-32730db9243a"
      },
      "source": [
        "# Define list for result\n",
        "result = []\n",
        "\n",
        "for config in configs:\n",
        "\n",
        "    # Redefine vectorizer\n",
        "    tfidf_vector = TfidfVectorizer(tokenizer=spacy_tokenizer, \n",
        "                                   ngram_range=config[0],# we add n-gram in the pipe\n",
        "                                   min_df=config[1], max_df=config[2], analyzer=config[3])\n",
        "\n",
        "    # Define classifier\n",
        "    classifier = LogisticRegression()\n",
        "\n",
        "    # Create pipeline\n",
        "    pipe = Pipeline([('vectorizer', tfidf_vector),\n",
        "                 ('classifier', classifier)])\n",
        "\n",
        "    # Fit model on training set\n",
        "    pipe.fit(X_train, y_train)\n",
        "\n",
        "    # Predictions\n",
        "    y_pred = pipe.predict(X_test)\n",
        "\n",
        "    # Print accuracy on test set\n",
        "    print(\"CONFIG: \", config)\n",
        "    evaluate(y_test, y_pred)\n",
        "    print(\"-----------------------\")\n",
        "\n",
        "    # Append to result\n",
        "    result.append([config, accuracy_score(y_test, y_pred)])"
      ],
      "execution_count": 43,
      "outputs": [
        {
          "output_type": "stream",
          "text": [
            "CONFIG:  [(1, 1), 1, 1.0, 'word']\n",
            "CONFUSION MATRIX:\n",
            "[[661  88]\n",
            " [390 156]]\n",
            "ACCURACY SCORE:\n",
            "0.6309\n",
            "CLASSIFICATION REPORT:\n",
            "\tPrecision: 0.6393\n",
            "\tRecall: 0.2857\n",
            "\tF1_Score: 0.3949\n",
            "-----------------------\n",
            "CONFIG:  [(1, 1), 1, 1.0, 'char']\n",
            "CONFUSION MATRIX:\n",
            "[[661  88]\n",
            " [390 156]]\n",
            "ACCURACY SCORE:\n",
            "0.6309\n",
            "CLASSIFICATION REPORT:\n",
            "\tPrecision: 0.6393\n",
            "\tRecall: 0.2857\n",
            "\tF1_Score: 0.3949\n",
            "-----------------------\n",
            "CONFIG:  [(1, 2), 1, 1.0, 'word']\n",
            "CONFUSION MATRIX:\n",
            "[[623 126]\n",
            " [312 234]]\n",
            "ACCURACY SCORE:\n",
            "0.6618\n",
            "CLASSIFICATION REPORT:\n",
            "\tPrecision: 0.6500\n",
            "\tRecall: 0.4286\n",
            "\tF1_Score: 0.5166\n",
            "-----------------------\n",
            "CONFIG:  [(1, 2), 1, 1.0, 'char']\n",
            "CONFUSION MATRIX:\n",
            "[[623 126]\n",
            " [312 234]]\n",
            "ACCURACY SCORE:\n",
            "0.6618\n",
            "CLASSIFICATION REPORT:\n",
            "\tPrecision: 0.6500\n",
            "\tRecall: 0.4286\n",
            "\tF1_Score: 0.5166\n",
            "-----------------------\n",
            "CONFIG:  [(1, 3), 1, 1.0, 'word']\n",
            "CONFUSION MATRIX:\n",
            "[[630 119]\n",
            " [232 314]]\n",
            "ACCURACY SCORE:\n",
            "0.7290\n",
            "CLASSIFICATION REPORT:\n",
            "\tPrecision: 0.7252\n",
            "\tRecall: 0.5751\n",
            "\tF1_Score: 0.6415\n",
            "-----------------------\n",
            "CONFIG:  [(1, 3), 1, 1.0, 'char']\n",
            "CONFUSION MATRIX:\n",
            "[[630 119]\n",
            " [232 314]]\n",
            "ACCURACY SCORE:\n",
            "0.7290\n",
            "CLASSIFICATION REPORT:\n",
            "\tPrecision: 0.7252\n",
            "\tRecall: 0.5751\n",
            "\tF1_Score: 0.6415\n",
            "-----------------------\n",
            "CONFIG:  [(2, 2), 1, 1.0, 'word']\n",
            "CONFUSION MATRIX:\n",
            "[[586 163]\n",
            " [266 280]]\n",
            "ACCURACY SCORE:\n",
            "0.6687\n",
            "CLASSIFICATION REPORT:\n",
            "\tPrecision: 0.6321\n",
            "\tRecall: 0.5128\n",
            "\tF1_Score: 0.5662\n",
            "-----------------------\n",
            "CONFIG:  [(2, 2), 1, 1.0, 'char']\n",
            "CONFUSION MATRIX:\n",
            "[[586 163]\n",
            " [266 280]]\n",
            "ACCURACY SCORE:\n",
            "0.6687\n",
            "CLASSIFICATION REPORT:\n",
            "\tPrecision: 0.6321\n",
            "\tRecall: 0.5128\n",
            "\tF1_Score: 0.5662\n",
            "-----------------------\n",
            "CONFIG:  [(2, 3), 1, 1.0, 'word']\n",
            "CONFUSION MATRIX:\n",
            "[[608 141]\n",
            " [216 330]]\n",
            "ACCURACY SCORE:\n",
            "0.7243\n",
            "CLASSIFICATION REPORT:\n",
            "\tPrecision: 0.7006\n",
            "\tRecall: 0.6044\n",
            "\tF1_Score: 0.6490\n",
            "-----------------------\n",
            "CONFIG:  [(2, 3), 1, 1.0, 'char']\n",
            "CONFUSION MATRIX:\n",
            "[[608 141]\n",
            " [216 330]]\n",
            "ACCURACY SCORE:\n",
            "0.7243\n",
            "CLASSIFICATION REPORT:\n",
            "\tPrecision: 0.7006\n",
            "\tRecall: 0.6044\n",
            "\tF1_Score: 0.6490\n",
            "-----------------------\n",
            "CONFIG:  [(3, 3), 1, 1.0, 'word']\n",
            "CONFUSION MATRIX:\n",
            "[[604 145]\n",
            " [212 334]]\n",
            "ACCURACY SCORE:\n",
            "0.7243\n",
            "CLASSIFICATION REPORT:\n",
            "\tPrecision: 0.6973\n",
            "\tRecall: 0.6117\n",
            "\tF1_Score: 0.6517\n",
            "-----------------------\n",
            "CONFIG:  [(3, 3), 1, 1.0, 'char']\n",
            "CONFUSION MATRIX:\n",
            "[[604 145]\n",
            " [212 334]]\n",
            "ACCURACY SCORE:\n",
            "0.7243\n",
            "CLASSIFICATION REPORT:\n",
            "\tPrecision: 0.6973\n",
            "\tRecall: 0.6117\n",
            "\tF1_Score: 0.6517\n",
            "-----------------------\n"
          ],
          "name": "stdout"
        }
      ]
    },
    {
      "cell_type": "markdown",
      "metadata": {
        "id": "SuaM7li-aF_f"
      },
      "source": [
        "## Select config which maximize accuracy\r\n"
      ]
    },
    {
      "cell_type": "code",
      "metadata": {
        "colab": {
          "base_uri": "https://localhost:8080/",
          "height": 343
        },
        "id": "R2YBzpZIbFCP",
        "outputId": "b7aba9a2-07dd-4c5d-cf44-a7013606e817"
      },
      "source": [
        "# Convert result innto dataframe\r\n",
        "result_df = pd.DataFrame(result)\r\n",
        "result_df.columns = ['config', 'accuracy']\r\n",
        "result_df.head(10)\r\n",
        "\r\n"
      ],
      "execution_count": 44,
      "outputs": [
        {
          "output_type": "execute_result",
          "data": {
            "text/html": [
              "<div>\n",
              "<style scoped>\n",
              "    .dataframe tbody tr th:only-of-type {\n",
              "        vertical-align: middle;\n",
              "    }\n",
              "\n",
              "    .dataframe tbody tr th {\n",
              "        vertical-align: top;\n",
              "    }\n",
              "\n",
              "    .dataframe thead th {\n",
              "        text-align: right;\n",
              "    }\n",
              "</style>\n",
              "<table border=\"1\" class=\"dataframe\">\n",
              "  <thead>\n",
              "    <tr style=\"text-align: right;\">\n",
              "      <th></th>\n",
              "      <th>config</th>\n",
              "      <th>accuracy</th>\n",
              "    </tr>\n",
              "  </thead>\n",
              "  <tbody>\n",
              "    <tr>\n",
              "      <th>0</th>\n",
              "      <td>[(1, 1), 1, 1.0, word]</td>\n",
              "      <td>0.630888</td>\n",
              "    </tr>\n",
              "    <tr>\n",
              "      <th>1</th>\n",
              "      <td>[(1, 1), 1, 1.0, char]</td>\n",
              "      <td>0.630888</td>\n",
              "    </tr>\n",
              "    <tr>\n",
              "      <th>2</th>\n",
              "      <td>[(1, 2), 1, 1.0, word]</td>\n",
              "      <td>0.661776</td>\n",
              "    </tr>\n",
              "    <tr>\n",
              "      <th>3</th>\n",
              "      <td>[(1, 2), 1, 1.0, char]</td>\n",
              "      <td>0.661776</td>\n",
              "    </tr>\n",
              "    <tr>\n",
              "      <th>4</th>\n",
              "      <td>[(1, 3), 1, 1.0, word]</td>\n",
              "      <td>0.728958</td>\n",
              "    </tr>\n",
              "    <tr>\n",
              "      <th>5</th>\n",
              "      <td>[(1, 3), 1, 1.0, char]</td>\n",
              "      <td>0.728958</td>\n",
              "    </tr>\n",
              "    <tr>\n",
              "      <th>6</th>\n",
              "      <td>[(2, 2), 1, 1.0, word]</td>\n",
              "      <td>0.668726</td>\n",
              "    </tr>\n",
              "    <tr>\n",
              "      <th>7</th>\n",
              "      <td>[(2, 2), 1, 1.0, char]</td>\n",
              "      <td>0.668726</td>\n",
              "    </tr>\n",
              "    <tr>\n",
              "      <th>8</th>\n",
              "      <td>[(2, 3), 1, 1.0, word]</td>\n",
              "      <td>0.724324</td>\n",
              "    </tr>\n",
              "    <tr>\n",
              "      <th>9</th>\n",
              "      <td>[(2, 3), 1, 1.0, char]</td>\n",
              "      <td>0.724324</td>\n",
              "    </tr>\n",
              "  </tbody>\n",
              "</table>\n",
              "</div>"
            ],
            "text/plain": [
              "                   config  accuracy\n",
              "0  [(1, 1), 1, 1.0, word]  0.630888\n",
              "1  [(1, 1), 1, 1.0, char]  0.630888\n",
              "2  [(1, 2), 1, 1.0, word]  0.661776\n",
              "3  [(1, 2), 1, 1.0, char]  0.661776\n",
              "4  [(1, 3), 1, 1.0, word]  0.728958\n",
              "5  [(1, 3), 1, 1.0, char]  0.728958\n",
              "6  [(2, 2), 1, 1.0, word]  0.668726\n",
              "7  [(2, 2), 1, 1.0, char]  0.668726\n",
              "8  [(2, 3), 1, 1.0, word]  0.724324\n",
              "9  [(2, 3), 1, 1.0, char]  0.724324"
            ]
          },
          "metadata": {
            "tags": []
          },
          "execution_count": 44
        }
      ]
    },
    {
      "cell_type": "markdown",
      "metadata": {
        "id": "bahqBUjEfaFs"
      },
      "source": [
        "The config which maximize the accuracy is \t[(1, 1), 1, 1.0, word]\tfor an accuracy of 0.821622. This correspond to the logistic classifier without using N-grams. That shows that the accuracy is better if we do not take into account the order. We could try to use N-grams in addition to cross validation to see if it change something with logistic regression classifier."
      ]
    },
    {
      "cell_type": "code",
      "metadata": {
        "id": "WfWsOaBFlBQd"
      },
      "source": [
        "# use the optimal config in the tokenizer\r\n",
        "\r\n",
        "tfidf_vector = TfidfVectorizer(tokenizer=spacy_tokenizer, ngram_range=(1, 3))\r\n",
        "# Create pipeline\r\n",
        "pipe = Pipeline([('vectorizer', tfidf_vector),\r\n",
        "                 ('classifier', classifier)])\r\n",
        "\r\n",
        "pipe.fit(df_X, df_Y)\r\n",
        "\r\n",
        "# predicted calue on the test set\r\n",
        "y_pred_test_ngram = pipe.predict(df_X_test)\r\n"
      ],
      "execution_count": 47,
      "outputs": []
    },
    {
      "cell_type": "code",
      "metadata": {
        "id": "medEGdWkmjba",
        "colab": {
          "base_uri": "https://localhost:8080/",
          "height": 195
        },
        "outputId": "74c31cc4-a1ac-4bc3-b198-0ef028b63179"
      },
      "source": [
        "# export the predicted target for submission 3\r\n",
        "y_pred_test_df_ngram = pd.DataFrame(y_pred_test_ngram) # transfom into dataframe\r\n",
        "y_pred_test_df_ngram.columns = ['target'] # set column name\r\n",
        "y_pred_test_df_ngram.to_csv(r'/content/DM_Project_Google/Data/accuracy_3_cv.csv', index = False)\r\n",
        "y_pred_test_df_ngram.shape\r\n",
        "y_pred_test_df_ngram.head()"
      ],
      "execution_count": 48,
      "outputs": [
        {
          "output_type": "execute_result",
          "data": {
            "text/html": [
              "<div>\n",
              "<style scoped>\n",
              "    .dataframe tbody tr th:only-of-type {\n",
              "        vertical-align: middle;\n",
              "    }\n",
              "\n",
              "    .dataframe tbody tr th {\n",
              "        vertical-align: top;\n",
              "    }\n",
              "\n",
              "    .dataframe thead th {\n",
              "        text-align: right;\n",
              "    }\n",
              "</style>\n",
              "<table border=\"1\" class=\"dataframe\">\n",
              "  <thead>\n",
              "    <tr style=\"text-align: right;\">\n",
              "      <th></th>\n",
              "      <th>target</th>\n",
              "    </tr>\n",
              "  </thead>\n",
              "  <tbody>\n",
              "    <tr>\n",
              "      <th>0</th>\n",
              "      <td>0</td>\n",
              "    </tr>\n",
              "    <tr>\n",
              "      <th>1</th>\n",
              "      <td>0</td>\n",
              "    </tr>\n",
              "    <tr>\n",
              "      <th>2</th>\n",
              "      <td>1</td>\n",
              "    </tr>\n",
              "    <tr>\n",
              "      <th>3</th>\n",
              "      <td>0</td>\n",
              "    </tr>\n",
              "    <tr>\n",
              "      <th>4</th>\n",
              "      <td>0</td>\n",
              "    </tr>\n",
              "  </tbody>\n",
              "</table>\n",
              "</div>"
            ],
            "text/plain": [
              "   target\n",
              "0       0\n",
              "1       0\n",
              "2       1\n",
              "3       0\n",
              "4       0"
            ]
          },
          "metadata": {
            "tags": []
          },
          "execution_count": 48
        }
      ]
    },
    {
      "cell_type": "markdown",
      "metadata": {
        "id": "a6lw_K34g-PE"
      },
      "source": [
        "### Model evaluation : Max accuracy using N-gram + Logistic model (submission 3 )"
      ]
    },
    {
      "cell_type": "code",
      "metadata": {
        "id": "a2ttmof6pcUH"
      },
      "source": [
        "#import module \n",
        "%matplotlib inline\n",
        "import numpy as np\n",
        "\n",
        "from matplotlib import collections  as mc\n",
        "%load_ext autoreload\n",
        "%autoreload 2\n",
        "\n",
        "from sklearn.preprocessing import LabelEncoder, OneHotEncoder\n",
        "sns.set_style(\"white\")\n",
        " \n",
        "from sklearn.feature_extraction.text import CountVectorizer,TfidfVectorizer\n",
        "from sklearn.base import TransformerMixin\n",
        "\n",
        "\n",
        "import gensim\n",
        "import bs4 as bs\n",
        "import urllib.request\n",
        "\n",
        "import math\n",
        "from gensim.models import Word2Vec\n",
        "import seaborn as sns\n",
        "# Import additional packages\n",
        "from sklearn.base import TransformerMixin\n",
        "from sklearn.pipeline import Pipeline\n",
        "import string\n",
        "\n",
        "from sklearn.model_selection import train_test_split\n",
        "from sklearn.linear_model import LogisticRegression\n"
      ],
      "execution_count": 49,
      "outputs": []
    },
    {
      "cell_type": "code",
      "metadata": {
        "colab": {
          "base_uri": "https://localhost:8080/",
          "height": 894
        },
        "id": "uFc4VQPko7DN",
        "outputId": "e0b0c7e9-e1f7-447c-9e85-d7ca7c43010d"
      },
      "source": [
        "# Predictions\n",
        "y_pred = pipe.predict(X_test)\n",
        "\n",
        "# Evaluate model\n",
        "print(round(accuracy_score(y_test, y_pred), 4))\n",
        "conf_mat = confusion_matrix(y_test, y_pred)\n",
        "fig, ax = plt.subplots(figsize=(15,15))\n",
        "sns.heatmap(conf_mat, annot=True, fmt='d')\n",
        "plt.ylabel('Actual')\n",
        "plt.xlabel('Predicted')\n",
        "plt.show()"
      ],
      "execution_count": 50,
      "outputs": [
        {
          "output_type": "stream",
          "text": [
            "0.7475\n"
          ],
          "name": "stdout"
        },
        {
          "output_type": "display_data",
          "data": {
            "image/png": "[encoded data removed]",
            "text/plain": [
              "<Figure size 1080x1080 with 2 Axes>"
            ]
          },
          "metadata": {
            "tags": []
          }
        }
      ]
    },
    {
      "cell_type": "markdown",
      "metadata": {
        "id": "cI1WiT2cmJmf"
      },
      "source": [
        "# 5. Other model testing\n",
        "\n",
        "\n"
      ]
    },
    {
      "cell_type": "markdown",
      "metadata": {
        "id": "qjVnaSBbR7Ew"
      },
      "source": [
        "# Decision Tree with TF-IDF "
      ]
    },
    {
      "cell_type": "code",
      "metadata": {
        "colab": {
          "base_uri": "https://localhost:8080/"
        },
        "id": "JFNEh2cRSgPr",
        "outputId": "1e2f56d2-5a5d-4dc2-962c-edec0ae0f8c0"
      },
      "source": [
        "from sklearn.tree import DecisionTreeClassifier\n",
        "# Define classifier\n",
        "tree = DecisionTreeClassifier()\n",
        "\n",
        "# Create pipeline\n",
        "pipe = Pipeline([('vectorizer', tfidf_vector),\n",
        "                 ('classifier', tree)\n",
        "                 ])\n",
        "\n",
        "# Fit model on training set\n",
        "pipe.fit(X_train, y_train)\n",
        "\n",
        "# Predictions\n",
        "y_pred = pipe.predict(df_X_test)\n",
        "\n",
        "print('Train Accuracy: ', round(pipe.score(X_train, y_train), 4))\n",
        "print('Test Accuracy: ', round(pipe.score(X_test, y_test), 4))"
      ],
      "execution_count": 51,
      "outputs": [
        {
          "output_type": "stream",
          "text": [
            "Train Accuracy:  0.9969\n",
            "Test Accuracy:  0.6355\n"
          ],
          "name": "stdout"
        }
      ]
    },
    {
      "cell_type": "code",
      "metadata": {
        "id": "JlBwxCOaTGmM"
      },
      "source": [
        "y_pred_df = pd.DataFrame(y_pred)\n",
        "y_pred_df.columns = ['target']\n",
        "y_pred_df.to_csv(r'/content/DM_Project_Google/Data/tree_tfidf_sub.csv', index = False)"
      ],
      "execution_count": 52,
      "outputs": []
    },
    {
      "cell_type": "markdown",
      "metadata": {
        "id": "CSwMILGdUmXo"
      },
      "source": [
        "## KNN Model"
      ]
    },
    {
      "cell_type": "code",
      "metadata": {
        "colab": {
          "base_uri": "https://localhost:8080/"
        },
        "id": "pJ5TjyuQUynJ",
        "outputId": "09172c64-5142-492c-caae-9b3fdd4690ac"
      },
      "source": [
        "from sklearn.neighbors import KNeighborsClassifier\n",
        "# Define classifier\n",
        "knn = KNeighborsClassifier(10)\n",
        "\n",
        "# Create pipeline\n",
        "pipe = Pipeline([('vectorizer', tfidf_vector),\n",
        "                 ('classifier', tree)\n",
        "                 ])\n",
        "\n",
        "# Fit model on training set\n",
        "pipe.fit(X_train, y_train)\n",
        "\n",
        "# Predictions\n",
        "y_pred = pipe.predict(df_X_test)\n",
        "\n",
        "print('Train Accuracy: ', round(pipe.score(X_train, y_train), 4))\n",
        "print('Test Accuracy: ', round(pipe.score(X_test, y_test), 4))"
      ],
      "execution_count": 53,
      "outputs": [
        {
          "output_type": "stream",
          "text": [
            "Train Accuracy:  0.9969\n",
            "Test Accuracy:  0.6309\n"
          ],
          "name": "stdout"
        }
      ]
    },
    {
      "cell_type": "code",
      "metadata": {
        "id": "oCJgBG2QU2Rn"
      },
      "source": [
        "y_pred_df = pd.DataFrame(y_pred)\n",
        "y_pred_df.columns = ['target']\n",
        "y_pred_df.to_csv(r'/content/DM_Project_Google/Data/knn_tfidf_sub.csv', index = False)"
      ],
      "execution_count": 54,
      "outputs": []
    },
    {
      "cell_type": "markdown",
      "metadata": {
        "id": "EXkoKArqTIMb"
      },
      "source": [
        "## Random Forest with TF-IDF"
      ]
    },
    {
      "cell_type": "code",
      "metadata": {
        "colab": {
          "base_uri": "https://localhost:8080/"
        },
        "id": "9AeZ9w09wPQr",
        "outputId": "411ee4c6-97fc-477b-c3b8-3489d0530840"
      },
      "source": [
        "# Random forest classifier\n",
        "# Use random forest\n",
        "from sklearn.ensemble import RandomForestClassifier\n",
        "\n",
        "# Define classifier\n",
        "classifier = RandomForestClassifier(n_estimators=50)\n",
        "\n",
        "# Create pipeline\n",
        "pipe = Pipeline([('vectorizer', tfidf_vector),\n",
        "                 ('classifier', classifier)])\n",
        "\n",
        "# Generate Model on training set\n",
        "pipe.fit(X_train, y_train)\n",
        "\n",
        "# Predictions\n",
        "y_pred = pipe.predict(X_test)\n",
        "\n",
        "# Evaluation - test set\n",
        "print(f\"CONFUSION MATRIX:\\n{confusion_matrix(y_test, y_pred)}\")\n",
        "print(f\"ACCURACY SCORE:\\n{accuracy_score(y_test, y_pred):.4f}\")"
      ],
      "execution_count": 56,
      "outputs": [
        {
          "output_type": "stream",
          "text": [
            "CONFUSION MATRIX:\n",
            "[[629 120]\n",
            " [246 300]]\n",
            "ACCURACY SCORE:\n",
            "0.7174\n"
          ],
          "name": "stdout"
        }
      ]
    },
    {
      "cell_type": "markdown",
      "metadata": {
        "id": "aWjHjvDdUE-3"
      },
      "source": [
        "## Word2Vec"
      ]
    },
    {
      "cell_type": "code",
      "metadata": {
        "id": "tJVsrQJ5xfUk",
        "colab": {
          "base_uri": "https://localhost:8080/",
          "height": 128
        },
        "outputId": "67eb1614-5176-4f6d-98e4-49064ce7c4d7"
      },
      "source": [
        "# Classification using Word2vec\n",
        "\n",
        "# Tokenize data - same tokenizer function as before\n",
        "%%time\n",
        "from gensim.models.doc2vec import TaggedDocument\n",
        "sample_tagged = X_train.apply(lambda r: TaggedDocument(words=spacy_tokenizer(r['text']), tags=[r.target], axis=1)\n",
        "#sample_tagged.head(20)"
      ],
      "execution_count": 57,
      "outputs": [
        {
          "output_type": "error",
          "ename": "SyntaxError",
          "evalue": "ignored",
          "traceback": [
            "\u001b[0;36m  File \u001b[0;32m\"<unknown>\"\u001b[0;36m, line \u001b[0;32m3\u001b[0m\n\u001b[0;31m    #sample_tagged.head(20)\u001b[0m\n\u001b[0m                           ^\u001b[0m\n\u001b[0;31mSyntaxError\u001b[0m\u001b[0;31m:\u001b[0m unexpected EOF while parsing\n"
          ]
        }
      ]
    },
    {
      "cell_type": "code",
      "metadata": {
        "id": "uqpr3GGXxoff"
      },
      "source": [
        "sample_tagged.values[10]"
      ],
      "execution_count": null,
      "outputs": []
    },
    {
      "cell_type": "code",
      "metadata": {
        "id": "GnCt_B1wxq_U"
      },
      "source": [
        "# Train test split - same split as before\n",
        "train_tagged, test_tagged = train_test_split(sample_tagged, test_size=0.2, random_state=1234)\n",
        "\n",
        "train_tagged"
      ],
      "execution_count": null,
      "outputs": []
    },
    {
      "cell_type": "code",
      "metadata": {
        "id": "GrlQA2KVxtHK"
      },
      "source": [
        "\n",
        "test_tagged"
      ],
      "execution_count": null,
      "outputs": []
    },
    {
      "cell_type": "code",
      "metadata": {
        "id": "GQcZV5jkxxQS"
      },
      "source": [
        "# Allows to speed up a bit\n",
        "import multiprocessing\n",
        "cores = multiprocessing.cpu_count()"
      ],
      "execution_count": null,
      "outputs": []
    },
    {
      "cell_type": "code",
      "metadata": {
        "id": "4TemhK5Sxz34"
      },
      "source": [
        "# Define Doc2Vec and build vocabulary\n",
        "from gensim.models import Doc2Vec\n",
        "\n",
        "model_dbow = Doc2Vec(dm=0, vector_size=30, negative=6, hs=0, min_count=1, sample=0, workers=cores, epoch=300)\n",
        "model_dbow.build_vocab([x for x in train_tagged.values])"
      ],
      "execution_count": null,
      "outputs": []
    },
    {
      "cell_type": "markdown",
      "metadata": {
        "id": "1oLJFf78x4NS"
      },
      "source": [
        "We now train the distributed bag of words model. In short, it trains a neural network and the optimal weights are the coefficients of the vectors of the documents. Therefore, similar documents will be close to each other in the N-dimentional space (N being the size of the vectors)."
      ]
    },
    {
      "cell_type": "code",
      "metadata": {
        "id": "_5y06kapx5CD"
      },
      "source": [
        "# Train distributed Bag of Word model\n",
        "model_dbow.train(train_tagged, total_examples=model_dbow.corpus_count, epochs=model_dbow.epochs)"
      ],
      "execution_count": null,
      "outputs": []
    },
    {
      "cell_type": "code",
      "metadata": {
        "id": "rxqGTyOEx80t"
      },
      "source": [
        "# Select X and y\n",
        "def vec_for_learning(model, tagged_docs):\n",
        "    sents = tagged_docs.values\n",
        "    targets, regressors = zip(*[(doc.tags[0], model.infer_vector(doc.words, steps=100)) for doc in sents])\n",
        "    return targets, regressors\n",
        "\n",
        "y_train, X_train = vec_for_learning(model_dbow, train_tagged)\n",
        "y_test, X_test = vec_for_learning(model_dbow, test_tagged)"
      ],
      "execution_count": null,
      "outputs": []
    },
    {
      "cell_type": "code",
      "metadata": {
        "id": "O1xcxBUex_vu"
      },
      "source": [
        "# Each document (i.e. complaint) is now a vector in the space of 30 dimentions.\n",
        "# Similar complaints should have similar vector representation.\n",
        "X_train[:3]"
      ],
      "execution_count": null,
      "outputs": []
    },
    {
      "cell_type": "code",
      "metadata": {
        "id": "O1rsFsS-yDW2"
      },
      "source": [
        "# Fit model on training set - same algorithm as before\n",
        "logreg = LogisticRegression(max_iter=1000, solver='lbfgs')\n",
        "logreg.fit(X_train, y_train)\n",
        "\n",
        "# Predictions\n",
        "y_pred = logreg.predict(X_test)\n",
        "\n",
        "# Evaluate model\n",
        "print(round(accuracy_score(y_test, y_pred), 4))\n",
        "conf_mat = confusion_matrix(y_test, y_pred)\n",
        "fig, ax = plt.subplots(figsize=(15,15))\n",
        "sns.heatmap(conf_mat, annot=True, fmt='d')\n",
        "plt.ylabel('Actual')\n",
        "plt.xlabel('Predicted')\n",
        "plt.show()"
      ],
      "execution_count": null,
      "outputs": []
    }
  ]
}